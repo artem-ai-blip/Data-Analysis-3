{
 "cells": [
  {
   "cell_type": "code",
   "execution_count": 1,
   "id": "da808681",
   "metadata": {},
   "outputs": [],
   "source": [
    "import pandas as pd\n",
    "import numpy as np\n",
    "import matplotlib.pyplot as plt\n",
    "import re\n",
    "import time\n",
    "from math import sqrt\n",
    "\n",
    "from sklearn.model_selection import train_test_split\n",
    "from sklearn.preprocessing import OneHotEncoder\n",
    "from sklearn.impute import SimpleImputer\n",
    "from sklearn.linear_model import LinearRegression, LassoCV\n",
    "from sklearn.ensemble import RandomForestRegressor\n",
    "from sklearn.metrics import r2_score, mean_squared_error\n",
    "from sklearn.linear_model import LassoCV\n",
    "from sklearn.metrics import mean_squared_error, r2_score\n",
    "\n",
    "from xgboost import XGBRegressor\n",
    "from lightgbm import LGBMRegressor"
   ]
  },
  {
   "cell_type": "markdown",
   "id": "a02bbfa7",
   "metadata": {},
   "source": [
    "# Building a prediction model on house prices"
   ]
  },
  {
   "cell_type": "markdown",
   "id": "927afd09",
   "metadata": {},
   "source": [
    "## Introduction\n",
    "\n",
    "This project explores the development of predictive pricing models for Airbnb listings in the Aegean Sea region, as part of a broader business case for a hypothetical short-term rental management company. The goal is to estimate listing prices using publicly available data from **Inside Airbnb**, with a focus on building models that generalize well across both **time** and **geography**.\n",
    "\n",
    "The core training data is drawn from **Crete**, the largest and most representative island in the region. To assess temporal robustness, the models are tested on a later Crete dataset. Spatial validity is evaluated by applying the same models to the **South Aegean**, a diverse region comprising more than 200 inhabited islands.\n",
    "\n",
    "By comparing the performance of several machine learning algorithms under different validation scenarios, this study aims to identify models that are not only accurate but also transferable across dynamic market conditions in the tourism sector."
   ]
  },
  {
   "cell_type": "markdown",
   "id": "529a850a",
   "metadata": {},
   "source": [
    "### Dataset Overview\n",
    "\n",
    "The core dataset used for model training consists of Airbnb listings from **Crete, Q1 2024**, sourced from *Inside Airbnb*. This dataset includes  23,359 listings and contains variables describing property features, location, availability, host behavior, and review scores."
   ]
  },
  {
   "cell_type": "code",
   "execution_count": 2,
   "id": "a99fc794",
   "metadata": {},
   "outputs": [],
   "source": [
    "url = \"https://raw.githubusercontent.com/artem-ai-blip/Data-Analysis-3/main/Assignment%202/Crete%2C2024%2CQ1.csv\"\n",
    "\n",
    "# Load the dataset\n",
    "crete_df = pd.read_csv(url)"
   ]
  },
  {
   "cell_type": "markdown",
   "id": "1819c3d6",
   "metadata": {},
   "source": [
    "## Data Preparation & Feature Engineering\n",
    "\n",
    "This section outlines the steps taken to clean, structure, and enhance the Airbnb listings data prior to modeling.\n",
    "\n",
    "### Feature Engineering\n",
    "\n",
    "- **Log-Transformed Variables**: All positively-valued numeric columns (excluding identifiers, lat/lon, and URLs) were log-transformed to normalize skewed distributions. This includes variables such as `log_bathrooms`, `log_accommodates`, and `log_reviews_per_month`. Over 20 log-transformed features were created.\n",
    "  \n",
    "- **Amenity Extraction**: The `amenities` field was parsed into individual amenities. The 40 most frequent amenities were converted into binary indicators (e.g., `amenity_wifi`, `amenity_kitchen`), capturing the presence or absence of popular features.\n",
    "\n",
    "- **Categorical Encoding**: One-hot encoding was applied to categorical features including `room_type`, `property_type`, and `neighbourhood_cleansed`."
   ]
  },
  {
   "cell_type": "code",
   "execution_count": 3,
   "id": "5baa7611",
   "metadata": {},
   "outputs": [
    {
     "data": {
      "text/plain": [
       "((23359, 115),\n",
       " Index(['amenity_wifi', 'amenity_hair_dryer', 'amenity_hangers',\n",
       "        'amenity_dishes_and_silverware', 'amenity_essentials', 'amenity_iron',\n",
       "        'amenity_cooking_basics', 'amenity_refrigerator', 'amenity_bed_linens',\n",
       "        'amenity_hot_water', 'amenity__kitchen', 'amenity_shampoo',\n",
       "        'amenity_fire_extinguisher', 'amenity_air_conditioning',\n",
       "        'amenity_first_aid_kit', 'amenity_long_term_stays_allowed',\n",
       "        'amenity_free_parking_on_premises',\n",
       "        'amenity_extra_pillows_and_blankets', 'amenity_outdoor_furniture',\n",
       "        'amenity_private_entrance', 'amenity_heating',\n",
       "        'amenity_drying_rack_for_clothing', 'amenity_tv', 'amenity_oven',\n",
       "        'amenity_hot_water_kettle', 'amenity_wine_glasses',\n",
       "        'amenity_private_patio_or_balcony', 'amenity_free_street_parking',\n",
       "        'amenity_dining_table', 'amenity_shower_gel', 'amenity_coffee_maker',\n",
       "        'amenity_cleaning_products', 'amenity_luggage_dropoff_allowed',\n",
       "        'amenity_baking_sheet', 'amenity_body_soap', 'amenity_microwave',\n",
       "        'amenity_freezer', 'amenity_room_darkening_shades',\n",
       "        'amenity_dedicated_workspace', 'amenity_washer'],\n",
       "       dtype='object'))"
      ]
     },
     "execution_count": 3,
     "metadata": {},
     "output_type": "execute_result"
    }
   ],
   "source": [
    "# STEP 1: Clean up the amenities column from string to list\n",
    "crete_df['amenities'] = crete_df['amenities'].astype(str).str.strip(\"{}\").str.replace('\"', '')\n",
    "crete_df['amenities'] = crete_df['amenities'].str.split(',')\n",
    "\n",
    "# STEP 2: Trim spaces around amenities\n",
    "crete_df['amenities'] = crete_df['amenities'].apply(lambda x: [i.strip() for i in x])\n",
    "\n",
    "# STEP 3: Flatten all amenities into one list for frequency counting\n",
    "all_amenities = crete_df['amenities'].explode()\n",
    "\n",
    "# STEP 4: Get top 40 most frequent amenities\n",
    "top_amenities = all_amenities.value_counts().head(40).index\n",
    "\n",
    "# STEP 5: Create binary columns for each top amenity\n",
    "for amenity in top_amenities:\n",
    "    safe_col = re.sub(r'\\W+', '_', amenity).lower()\n",
    "    crete_df[f'amenity_{safe_col}'] = crete_df['amenities'].apply(lambda x: int(amenity in x))\n",
    "\n",
    "crete_df.shape, crete_df.filter(like='amenity_').columns"
   ]
  },
  {
   "cell_type": "markdown",
   "id": "def37593",
   "metadata": {},
   "source": [
    "### Data Cleaning\n",
    "\n",
    "- **Price Cleanup**: The `price` column was converted from string to numeric format. Listings were filtered to include prices between €28 and €570.\n",
    "- **Missing Value Imputation**: Median imputation was applied to variables such as `bathrooms`, `bedrooms`, and all `review_scores_*` fields.\n",
    "- **Extreme values**: Variables like `price`, `minimum_nights`, `maximum_nights`, and `accommodates` were clipped at the 99th percentile to mitigate the influence of extreme values.\n",
    "- **Review Flags**: A binary variable `has_reviews` was created to distinguish listings with review scores. For those without reviews, the review score fields were filled with zero.\n",
    "- **High-Cardinality Columns**: Redundant or high-cardinality text fields (e.g., `description`, `host_name`, `listing_url`) were dropped to reduce noise and complexity.\n"
   ]
  },
  {
   "cell_type": "code",
   "execution_count": 4,
   "id": "56df2f66",
   "metadata": {},
   "outputs": [
    {
     "data": {
      "text/plain": [
       "((23359, 210),\n",
       " Index(['id', 'listing_url', 'scrape_id', 'last_scraped', 'source', 'name',\n",
       "        'description', 'neighborhood_overview', 'picture_url', 'host_id'],\n",
       "       dtype='object'))"
      ]
     },
     "execution_count": 4,
     "metadata": {},
     "output_type": "execute_result"
    }
   ],
   "source": [
    "# --- Clean price column ---\n",
    "crete_df['price'] = crete_df['price'].replace('[\\$,]', '', regex=True).astype(float)\n",
    "\n",
    "# --- Impute missing values for key numerical columns ---\n",
    "num_cols_to_impute = ['bathrooms', 'bedrooms', 'beds']\n",
    "num_imputer = SimpleImputer(strategy='median')\n",
    "crete_df[num_cols_to_impute] = num_imputer.fit_transform(crete_df[num_cols_to_impute])\n",
    "\n",
    "# --- Handle review score columns ---\n",
    "review_cols = [col for col in crete_df.columns if col.startswith(\"review_scores_\")]\n",
    "crete_df[review_cols] = crete_df[review_cols].fillna(crete_df[review_cols].median())\n",
    "\n",
    "# --- Drop fully null or irrelevant columns ---\n",
    "cols_to_drop = ['neighbourhood_group_cleansed', 'calendar_updated', 'host_neighbourhood']\n",
    "crete_df.drop(columns=[col for col in cols_to_drop if col in crete_df.columns], inplace=True)\n",
    "\n",
    "# --- One-hot encode key categoricals ---\n",
    "categorical_features = ['room_type', 'property_type', 'neighbourhood_cleansed']\n",
    "crete_df = pd.get_dummies(crete_df, columns=[col for col in categorical_features if col in crete_df.columns], drop_first=True)\n",
    "\n",
    "crete_df.shape, crete_df.columns[:10]\n"
   ]
  },
  {
   "cell_type": "code",
   "execution_count": 5,
   "id": "c86d4b81",
   "metadata": {},
   "outputs": [
    {
     "data": {
      "text/plain": [
       "(17,\n",
       " ['log_host_listings_count',\n",
       "  'log_host_total_listings_count',\n",
       "  'log_accommodates',\n",
       "  'log_price',\n",
       "  'log_minimum_nights',\n",
       "  'log_maximum_nights',\n",
       "  'log_minimum_minimum_nights',\n",
       "  'log_maximum_minimum_nights',\n",
       "  'log_minimum_maximum_nights',\n",
       "  'log_maximum_maximum_nights'])"
      ]
     },
     "execution_count": 5,
     "metadata": {},
     "output_type": "execute_result"
    }
   ],
   "source": [
    "# Identify relevant numeric columns for prediction\n",
    "exclude_keywords = ['id', 'latitude', 'longitude', 'listing_url', 'host_id', 'scrape_id']\n",
    "numeric_cols = crete_df.select_dtypes(include=[np.number]).columns\n",
    "relevant_numeric_cols = [col for col in numeric_cols if not any(key in col for key in exclude_keywords)]\n",
    "\n",
    "# Create log-transformed versions for positively-valued columns only\n",
    "for col in relevant_numeric_cols:\n",
    "    if (crete_df[col] > 0).all():\n",
    "        crete_df[f'log_{col}'] = np.log(crete_df[col])\n",
    "\n",
    "log_cols = [col for col in crete_df.columns if col.startswith('log_')]\n",
    "len(log_cols), log_cols[:10]\n"
   ]
  },
  {
   "cell_type": "code",
   "execution_count": 6,
   "id": "eb906184",
   "metadata": {},
   "outputs": [
    {
     "data": {
      "text/plain": [
       "count    23359.000000\n",
       "mean       241.383022\n",
       "std        886.252227\n",
       "min         11.000000\n",
       "1%          28.000000\n",
       "5%          40.000000\n",
       "25%         60.000000\n",
       "50%         94.000000\n",
       "75%        180.000000\n",
       "95%        579.000000\n",
       "99%       2673.400000\n",
       "max      70810.000000\n",
       "Name: price, dtype: float64"
      ]
     },
     "execution_count": 6,
     "metadata": {},
     "output_type": "execute_result"
    }
   ],
   "source": [
    "# Generate descriptive statistics for the 'price' column to understand potential cutoff thresholds\n",
    "price_description = crete_df['price'].describe(percentiles=[.01, .05, .25, .5, .75, .95, .99])\n",
    "price_description\n"
   ]
  },
  {
   "cell_type": "code",
   "execution_count": 7,
   "id": "bc494fb3",
   "metadata": {},
   "outputs": [
    {
     "data": {
      "image/png": "[encoded data removed]",
      "text/plain": [
       "<Figure size 1000x600 with 1 Axes>"
      ]
     },
     "metadata": {},
     "output_type": "display_data"
    }
   ],
   "source": [
    "# Filter listings with price between 28 and 579 EUR\n",
    "crete_df = crete_df[(crete_df['price'] >= 28) & (crete_df['price'] <= 579)]\n",
    "\n",
    "# Recalculate log_price after filtering\n",
    "crete_df['log_price'] = np.log1p(crete_df['price'])\n",
    "\n",
    "# Plot histogram of the log-transformed price\n",
    "plt.figure(figsize=(10, 6))\n",
    "crete_df['log_price'].dropna().hist(bins=100)\n",
    "plt.title(\"Log-Transformed Price Distribution (Filtered: €35–€600)\")\n",
    "plt.xlabel(\"Log(1 + Price)\")\n",
    "plt.ylabel(\"Number of Listings\")\n",
    "plt.grid(True)\n",
    "plt.show()"
   ]
  },
  {
   "cell_type": "code",
   "execution_count": 8,
   "id": "5755e47a",
   "metadata": {},
   "outputs": [
    {
     "data": {
      "text/plain": [
       "((21986, 210),\n",
       " ['has_reviews', 'accommodates', 'price', 'minimum_nights', 'maximum_nights'])"
      ]
     },
     "execution_count": 8,
     "metadata": {},
     "output_type": "execute_result"
    }
   ],
   "source": [
    "# --- Extreme Values Handling for key numeric columns ---\n",
    "# Define columns to clip and their upper quantile thresholds\n",
    "clip_cols = ['price', 'minimum_nights', 'maximum_nights', 'accommodates']\n",
    "clip_thresholds = crete_df[clip_cols].quantile(0.99)\n",
    "\n",
    "# Clip at 99th percentile\n",
    "for col in clip_cols:\n",
    "    crete_df[col] = np.clip(crete_df[col], None, clip_thresholds[col])\n",
    "\n",
    "# --- Create flag for listings with reviews ---\n",
    "crete_df['has_reviews'] = crete_df['review_scores_rating'].notnull().astype(int)\n",
    "\n",
    "# --- Fill review scores with 0 for listings without reviews ---\n",
    "crete_df[review_cols] = crete_df[review_cols].fillna(0)\n",
    "\n",
    "# --- Drop high-cardinality or redundant columns ---\n",
    "high_card_cols = [\n",
    "    'id', 'listing_url', 'scrape_id', 'last_scraped', 'source', 'name',\n",
    "    'description', 'neighborhood_overview', 'picture_url', 'host_id',\n",
    "    'host_url', 'host_name', 'host_thumbnail_url', 'host_picture_url',\n",
    "    'calendar_last_scraped', 'first_review', 'last_review', 'license'\n",
    "]\n",
    "crete_df.drop(columns=[col for col in high_card_cols if col in crete_df.columns], inplace=True)\n",
    "\n",
    "crete_df.shape, ['has_reviews'] + [col for col in crete_df.columns if col in clip_cols]\n"
   ]
  },
  {
   "cell_type": "markdown",
   "id": "2492c035",
   "metadata": {},
   "source": [
    "\n",
    "## Part I – Modeling\n",
    "\n",
    "### Model 1: OLS Regression\n",
    "\n",
    "To establish a baseline model, we begin with **Ordinary Least Squares (OLS)** regression. This linear model estimates the relationship between the log-transformed price (`log_price`) and all numeric predictor variables in the dataset.\n",
    "\n",
    "#### **Training Procedure**\n",
    "- All non-text, numeric features were selected and imputed using the median strategy.\n",
    "- A standard **80/20 train-test split** was applied to evaluate performance.\n",
    "- The model was trained using `LinearRegression` from scikit-learn without regularization."
   ]
  },
  {
   "cell_type": "code",
   "execution_count": 9,
   "id": "72db4660",
   "metadata": {},
   "outputs": [
    {
     "name": "stdout",
     "output_type": "stream",
     "text": [
      "OLS Regression Results:\n",
      " - R² Score: 0.6356\n",
      " - RMSE: 0.4029\n",
      " - Training Time: 0.05 seconds\n"
     ]
    }
   ],
   "source": [
    "# Step 1: Define target and drop columns \n",
    "target = 'log_price'\n",
    "drop_cols = ['price']\n",
    "\n",
    "# Step 2: Prepare feature matrix \n",
    "X = crete_df.drop(columns=[col for col in drop_cols if col in crete_df.columns] + [target])\n",
    "X = X.select_dtypes(include=[np.number])  # Only numeric columns\n",
    "\n",
    "# Step 3: Impute missing values \n",
    "imputer = SimpleImputer(strategy='median')\n",
    "X_imputed = pd.DataFrame(imputer.fit_transform(X), columns=X.columns)\n",
    "\n",
    "# Step 4: Define target \n",
    "y = crete_df[target]\n",
    "\n",
    "# Step 5: Train/Test Split \n",
    "X_train, X_test, y_train, y_test = train_test_split(X_imputed, y, test_size=0.2, random_state=42)\n",
    "\n",
    "# Step 6: Fit OLS Model \n",
    "model_ols = LinearRegression()\n",
    "start_time = time.time()\n",
    "model_ols.fit(X_train, y_train)\n",
    "elapsed_time = time.time() - start_time\n",
    "\n",
    "# Step 7: Predict and Evaluate \n",
    "y_pred = model_ols.predict(X_test)\n",
    "r2 = r2_score(y_test, y_pred)\n",
    "rmse = sqrt(mean_squared_error(y_test, y_pred))\n",
    "\n",
    "# Step 8: Output Results \n",
    "print(\"OLS Regression Results:\")\n",
    "print(f\" - R² Score: {r2:.4f}\")\n",
    "print(f\" - RMSE: {rmse:.4f}\")\n",
    "print(f\" - Training Time: {elapsed_time:.2f} seconds\")\n"
   ]
  },
  {
   "cell_type": "markdown",
   "id": "20f779d2",
   "metadata": {},
   "source": [
    "| Metric          | Value        |\n",
    "|-----------------|--------------|\n",
    "| **R² Score**    | 0.6268       |\n",
    "| **RMSE**        | 0.4054       |\n",
    "| **Training Time** | 0.04 seconds |\n",
    "\n",
    "#### **Interpretation**\n",
    "- The model explains **62.7% of the variance** in log-transformed prices, which is a strong baseline given the model’s simplicity.\n",
    "- An RMSE of **0.4054** in log-price terms suggests relatively low average prediction error on the test set.\n",
    "- The training time was negligible, highlighting OLS as a computationally efficient option.\n"
   ]
  },
  {
   "cell_type": "markdown",
   "id": "3b314d89",
   "metadata": {},
   "source": [
    "\n",
    "## Model 2: LASSO Regression\n",
    "\n",
    "To explore the effect of regularization, we implemented **LASSO Regression (Least Absolute Shrinkage and Selection Operator)** using cross-validation to automatically tune the regularization parameter (α).\n",
    "\n",
    "#### **Training Procedure**\n",
    "- The same training and test split was used as in the OLS model.\n",
    "- `LassoCV` with 5-fold cross-validation was employed to select the optimal penalty.\n",
    "- All numeric features were used without prior standardization.\n"
   ]
  },
  {
   "cell_type": "code",
   "execution_count": 10,
   "id": "219e348a",
   "metadata": {},
   "outputs": [
    {
     "name": "stdout",
     "output_type": "stream",
     "text": [
      "LASSO Regression Results:\n",
      " - R² Score: -0.0002\n",
      " - RMSE: 0.6676\n",
      " - Optimal Alpha (λ): 169.86337\n",
      " - Training Time: 0.40 seconds\n"
     ]
    }
   ],
   "source": [
    "# Model: LASSO with cross-validation \n",
    "lasso_model = LassoCV(cv=5, random_state=42, n_jobs=-1)\n",
    "\n",
    "start_time = time.time()\n",
    "lasso_model.fit(X_train, y_train)\n",
    "elapsed_time = time.time() - start_time\n",
    "\n",
    "# Predict & Evaluate\n",
    "y_pred_lasso = lasso_model.predict(X_test)\n",
    "r2_lasso = r2_score(y_test, y_pred_lasso)\n",
    "rmse_lasso = sqrt(mean_squared_error(y_test, y_pred_lasso))\n",
    "\n",
    "print(\"LASSO Regression Results:\")\n",
    "print(f\" - R² Score: {r2_lasso:.4f}\")\n",
    "print(f\" - RMSE: {rmse_lasso:.4f}\")\n",
    "print(f\" - Optimal Alpha (λ): {lasso_model.alpha_:.5f}\")\n",
    "print(f\" - Training Time: {elapsed_time:.2f} seconds\")\n"
   ]
  },
  {
   "cell_type": "markdown",
   "id": "444dbde1",
   "metadata": {},
   "source": [
    "\n",
    "| Metric          | Value        |\n",
    "|-----------------|--------------|\n",
    "| **R² Score**    | -0.0001      |\n",
    "| **RMSE**        | 0.6637       |\n",
    "| **Optimal α**   | 170.346      |\n",
    "| **Training Time** | 0.42 seconds |\n",
    "\n",
    "#### **Interpretation**\n",
    "- LASSO **performed poorly**, achieving a near-zero R² and significantly higher RMSE than OLS.\n",
    "- The model likely **over-penalized coefficients**, shrinking most weights toward zero.\n",
    "- This outcome suggests that LASSO is ill-suited for this dataset in its current form. \n",
    "\n",
    "Consequantly, the standardization must be committed. \n"
   ]
  },
  {
   "cell_type": "code",
   "execution_count": 11,
   "id": "8c19eb8f",
   "metadata": {},
   "outputs": [],
   "source": [
    "from sklearn.preprocessing import StandardScaler\n",
    "\n",
    "scaler = StandardScaler()\n",
    "X_train_scaled = scaler.fit_transform(X_train)\n",
    "X_test_scaled = scaler.transform(X_test)\n"
   ]
  },
  {
   "cell_type": "code",
   "execution_count": 12,
   "id": "9de8d9c4",
   "metadata": {},
   "outputs": [
    {
     "name": "stdout",
     "output_type": "stream",
     "text": [
      "Improved LASSO Results:\n",
      " - R² Score: 0.6353\n",
      " - RMSE: 0.4031\n",
      " - Optimal Alpha (λ): 0.00100\n",
      " - Training Time: 0.63 seconds\n"
     ]
    }
   ],
   "source": [
    "# Define a better alpha range (log scale)\n",
    "alphas = np.logspace(-3, 1, 100)  # from 0.001 to 10\n",
    "\n",
    "lasso_model = LassoCV(alphas=alphas, cv=5, random_state=42, n_jobs=-1)\n",
    "\n",
    "start_time = time.time()\n",
    "lasso_model.fit(X_train_scaled, y_train)\n",
    "elapsed_time = time.time() - start_time\n",
    "\n",
    "# Predict and evaluate\n",
    "y_pred_lasso = lasso_model.predict(X_test_scaled)\n",
    "r2_lasso = r2_score(y_test, y_pred_lasso)\n",
    "rmse_lasso = np.sqrt(mean_squared_error(y_test, y_pred_lasso))\n",
    "\n",
    "print(\"Improved LASSO Results:\")\n",
    "print(f\" - R² Score: {r2_lasso:.4f}\")\n",
    "print(f\" - RMSE: {rmse_lasso:.4f}\")\n",
    "print(f\" - Optimal Alpha (λ): {lasso_model.alpha_:.5f}\")\n",
    "print(f\" - Training Time: {elapsed_time:.2f} seconds\")\n"
   ]
  },
  {
   "cell_type": "markdown",
   "id": "f9a49bbd",
   "metadata": {},
   "source": [
    "| Metric            | Value         |\n",
    "|-------------------|---------------|\n",
    "| **R² Score**      | 0.6252        |\n",
    "| **RMSE**          | 0.4063        |\n",
    "| **Optimal α (λ)** | 0.00100       |\n",
    "| **Training Time** | 0.63 seconds  |"
   ]
  },
  {
   "cell_type": "code",
   "execution_count": 13,
   "id": "ccc2e17c",
   "metadata": {},
   "outputs": [
    {
     "name": "stdout",
     "output_type": "stream",
     "text": [
      " - Non-zero Coefficients: 153 / 193\n"
     ]
    }
   ],
   "source": [
    "nonzero = np.sum(lasso_model.coef_ != 0)\n",
    "print(f\" - Non-zero Coefficients: {nonzero} / {X_train.shape[1]}\")"
   ]
  },
  {
   "cell_type": "markdown",
   "id": "04c97b97",
   "metadata": {},
   "source": [
    "\n",
    "## Model 3: Random Forest Regression\n",
    "\n",
    "**Random Forest** is an ensemble model that fits multiple decision trees on random subsets of the data and averages their predictions. It is well-suited for capturing non-linear relationships and interactions between features.\n",
    "\n",
    "#### **Training Procedure**\n",
    "- The model was trained with 100 trees (`n_estimators=100`) and default depth.\n",
    "- Same 80/20 split was used; no additional tuning or scaling was performed.\n",
    "- Feature importances were captured for later interpretability.\n"
   ]
  },
  {
   "cell_type": "code",
   "execution_count": 14,
   "id": "c33df5af",
   "metadata": {},
   "outputs": [
    {
     "name": "stdout",
     "output_type": "stream",
     "text": [
      "Random Forest Regression Results:\n",
      " - R² Score: 0.7144\n",
      " - RMSE: 0.3568\n",
      " - Training Time: 16.74 seconds\n"
     ]
    }
   ],
   "source": [
    "# Model: Random Forest \n",
    "rf_model = RandomForestRegressor(n_estimators=100, random_state=42, n_jobs=-1)\n",
    "\n",
    "start_time = time.time()\n",
    "rf_model.fit(X_train, y_train)\n",
    "elapsed_time = time.time() - start_time\n",
    "\n",
    "# Predict & Evaluate \n",
    "y_pred_rf = rf_model.predict(X_test)\n",
    "r2_rf = r2_score(y_test, y_pred_rf)\n",
    "rmse_rf = sqrt(mean_squared_error(y_test, y_pred_rf))\n",
    "\n",
    "print(\"Random Forest Regression Results:\")\n",
    "print(f\" - R² Score: {r2_rf:.4f}\")\n",
    "print(f\" - RMSE: {rmse_rf:.4f}\")\n",
    "print(f\" - Training Time: {elapsed_time:.2f} seconds\")\n"
   ]
  },
  {
   "cell_type": "markdown",
   "id": "3d65212f",
   "metadata": {},
   "source": [
    "\n",
    "| Metric          | Value        |\n",
    "|-----------------|--------------|\n",
    "| **R² Score**    | 0.6936       |\n",
    "| **RMSE**        | 0.3673       |\n",
    "| **Training Time** | 14.97 seconds |\n",
    "\n",
    "#### **Interpretation**\n",
    "- Random Forest significantly outperformed both OLS and LASSO, achieving the **highest R²** and **lowest RMSE** so far.\n",
    "- The model captured complex, non-linear relationships in the data that linear models could not.\n",
    "- The tradeoff was a longer training time, although still reasonable for datasets of this size.\n",
    "\n",
    "Random Forest demonstrates strong predictive performance and robustness, making it a reliable baseline among non-linear models.\n"
   ]
  },
  {
   "cell_type": "markdown",
   "id": "3124f7be",
   "metadata": {},
   "source": [
    "\n",
    "## Model 4: XGBoost Regression\n",
    "\n",
    "**XGBoost** (Extreme Gradient Boosting) is a powerful gradient boosting framework known for its speed, efficiency, and superior accuracy in a wide range of regression and classification problems.\n",
    "\n",
    "#### **Training Procedure**\n",
    "- The model was trained using 100 boosting rounds and a learning rate of 0.1.\n",
    "- The same feature matrix and 80/20 split were used.\n",
    "- No additional hyperparameter tuning was applied for this baseline model.\n"
   ]
  },
  {
   "cell_type": "code",
   "execution_count": 15,
   "id": "8fca4d85",
   "metadata": {},
   "outputs": [
    {
     "name": "stdout",
     "output_type": "stream",
     "text": [
      "XGBoost Regression Results:\n",
      " - R² Score: 0.7172\n",
      " - RMSE: 0.3550\n",
      " - Training Time: 0.54 seconds\n"
     ]
    }
   ],
   "source": [
    "# Model: XGBoost \n",
    "xgb_model = XGBRegressor(n_estimators=100, learning_rate=0.1, random_state=42, n_jobs=-1)\n",
    "\n",
    "start_time = time.time()\n",
    "xgb_model.fit(X_train, y_train)\n",
    "elapsed_time = time.time() - start_time\n",
    "\n",
    "# Predict & Evaluate \n",
    "y_pred_xgb = xgb_model.predict(X_test)\n",
    "r2_xgb = r2_score(y_test, y_pred_xgb)\n",
    "rmse_xgb = sqrt(mean_squared_error(y_test, y_pred_xgb))\n",
    "\n",
    "print(\"XGBoost Regression Results:\")\n",
    "print(f\" - R² Score: {r2_xgb:.4f}\")\n",
    "print(f\" - RMSE: {rmse_xgb:.4f}\")\n",
    "print(f\" - Training Time: {elapsed_time:.2f} seconds\")\n"
   ]
  },
  {
   "cell_type": "markdown",
   "id": "41964e11",
   "metadata": {},
   "source": [
    "\n",
    "| Metric          | Value        |\n",
    "|-----------------|--------------|\n",
    "| **R² Score**    | 0.6949       |\n",
    "| **RMSE**        | 0.3666       |\n",
    "| **Training Time** | 0.67 seconds |\n",
    "\n",
    "#### **Interpretation**\n",
    "- XGBoost slightly outperformed Random Forest in both R² and RMSE, indicating its strength in modeling structured tabular data.\n",
    "- Despite being a boosting model, it trained **significantly faster** than Random Forest due to its optimized implementation.\n",
    "- The performance suggests that XGBoost is a strong candidate for production deployment when both accuracy and computational efficiency are needed.\n"
   ]
  },
  {
   "cell_type": "markdown",
   "id": "cea48be9",
   "metadata": {},
   "source": [
    "\n",
    "## Model 5: LightGBM Regression\n",
    "\n",
    "**LightGBM** is a high-performance gradient boosting framework designed for fast computation, low memory usage, and accurate modeling. It is well-suited for large tabular datasets with many features.\n",
    "\n",
    "#### **Training Procedure**\n",
    "- The model was trained with 100 boosting iterations and a learning rate of 0.1.\n",
    "- No categorical encoding or advanced tuning was required beyond standard preprocessing.\n",
    "- Like other models, it was evaluated on a holdout set (20%).\n"
   ]
  },
  {
   "cell_type": "code",
   "execution_count": 16,
   "id": "9ef4c6a0",
   "metadata": {},
   "outputs": [
    {
     "name": "stdout",
     "output_type": "stream",
     "text": [
      "[LightGBM] [Warning] Found whitespace in feature_names, replace with underlines\n",
      "[LightGBM] [Info] Auto-choosing col-wise multi-threading, the overhead of testing was 0.005539 seconds.\n",
      "You can set `force_col_wise=true` to remove the overhead.\n",
      "[LightGBM] [Info] Total Bins 4841\n",
      "[LightGBM] [Info] Number of data points in the train set: 17588, number of used features: 142\n",
      "[LightGBM] [Info] Start training from score 4.632240\n",
      "LightGBM Regression Results:\n",
      " - R² Score: 0.7215\n",
      " - RMSE: 0.3523\n",
      " - Training Time: 0.28 seconds\n"
     ]
    }
   ],
   "source": [
    "# Model: LightGBM\n",
    "lgb_model = LGBMRegressor(n_estimators=100, learning_rate=0.1, random_state=42, n_jobs=-1)\n",
    "\n",
    "start_time = time.time()\n",
    "lgb_model.fit(X_train, y_train)\n",
    "elapsed_time = time.time() - start_time\n",
    "\n",
    "# Predict & Evaluate\n",
    "y_pred_lgb = lgb_model.predict(X_test)\n",
    "r2_lgb = r2_score(y_test, y_pred_lgb)\n",
    "rmse_lgb = sqrt(mean_squared_error(y_test, y_pred_lgb))\n",
    "\n",
    "print(\"LightGBM Regression Results:\")\n",
    "print(f\" - R² Score: {r2_lgb:.4f}\")\n",
    "print(f\" - RMSE: {rmse_lgb:.4f}\")\n",
    "print(f\" - Training Time: {elapsed_time:.2f} seconds\")\n"
   ]
  },
  {
   "cell_type": "markdown",
   "id": "ffcdb6fb",
   "metadata": {},
   "source": [
    "\n",
    "| Metric          | Value        |\n",
    "|-----------------|--------------|\n",
    "| **R² Score**    | **0.6988**   |\n",
    "| **RMSE**        | **0.3642**   |\n",
    "| **Training Time** | **0.27 seconds** |\n",
    "\n",
    "#### **Interpretation**\n",
    "- LightGBM achieved the **best overall performance** across all models in terms of both R² and RMSE.\n",
    "- It was also the **fastest model to train** among the tree-based approaches, significantly outperforming Random Forest in speed and XGBoost in accuracy.\n",
    "- The result highlights LightGBM's strength in high-dimensional, structured prediction tasks.\n",
    "\n",
    "This makes LightGBM the strongest candidate for general-purpose Airbnb price prediction, pending further tests of its robustness.\n"
   ]
  },
  {
   "cell_type": "markdown",
   "id": "2987602e",
   "metadata": {},
   "source": [
    "## The Horserace Table\n",
    "\n",
    "### Model Comparison: Crete Q1 2024\n",
    "\n",
    "To assess overall model performance, we compare the five models based on their predictive accuracy on the Crete Q1 2024 test set. The table below summarizes each model's **R² score**, **RMSE**, and **training time**.\n",
    "\n",
    "| Model            | R² Score | RMSE   | Training Time |\n",
    "|------------------|----------|--------|----------------|\n",
    "| **OLS**          | 0.6268   | 0.4054 | 0.04 sec       |\n",
    "| **LASSO**        | 0.6252   | 0.4063 | 0.63 sec       |\n",
    "| **Random Forest**| 0.6936   | 0.3673 | 14.97 sec      |\n",
    "| **XGBoost**      | 0.6949   | 0.3666 | 0.67 sec       |\n",
    "| **LightGBM**     | **0.6988** | **0.3642** | **0.27 sec**   |\n",
    "\n",
    "---\n",
    "\n",
    "### Interpretation\n",
    "\n",
    "- **Best Performance**: **LightGBM** achieved the highest R² and lowest RMSE while also being the fastest among ensemble models.\n",
    "- **Top Contenders**: **XGBoost** and **Random Forest** also performed well, capturing nonlinearities better than linear models.\n",
    "- **LASSO Recovered**: After scaling and tuning, **LASSO** showed competitive performance with OLS, validating its strength in regularized linear regression.\n",
    "- **Baseline**: **OLS** remains a strong baseline, but was slightly outperformed by the optimized LASSO.\n",
    "\n",
    "---\n",
    "\n",
    "### Summary\n",
    "\n",
    "- Ensemble models clearly outperformed linear models in predictive accuracy.\n",
    "- **LightGBM remains the most favorable model** overall, balancing speed, accuracy, and scalability.\n",
    "- With optimized scaling and tuning, **LASSO proves it's still in the race**, no longer an underperformer.\n",
    "- This horserace sets the stage for deeper model diagnostics, beginning with feature importance comparisons.\n"
   ]
  },
  {
   "cell_type": "markdown",
   "id": "44955766",
   "metadata": {},
   "source": [
    "\n",
    "## Feature  Analysis\n",
    "\n",
    "To interpret and compare the predictive behavior of tree-based models, we examine the **feature importances** derived from both **Random Forest** and **LightGBM**.\n"
   ]
  },
  {
   "cell_type": "code",
   "execution_count": 17,
   "id": "11b1b32d",
   "metadata": {},
   "outputs": [],
   "source": [
    "# Get feature importances\n",
    "rf_importance = pd.Series(rf_model.feature_importances_, index=X_train.columns).sort_values(ascending=False)\n",
    "lgb_importance = pd.Series(lgb_model.feature_importances_, index=X_train.columns).sort_values(ascending=False)\n"
   ]
  },
  {
   "cell_type": "code",
   "execution_count": 18,
   "id": "bd422f93",
   "metadata": {},
   "outputs": [
    {
     "data": {
      "image/png": "[encoded data removed]",
      "text/plain": [
       "<Figure size 1000x500 with 1 Axes>"
      ]
     },
     "metadata": {},
     "output_type": "display_data"
    },
    {
     "data": {
      "image/png": "[encoded data removed]",
      "text/plain": [
       "<Figure size 1000x500 with 1 Axes>"
      ]
     },
     "metadata": {},
     "output_type": "display_data"
    }
   ],
   "source": [
    "# Plot RF\n",
    "plt.figure(figsize=(10, 5))\n",
    "rf_importance.head(10).plot(kind='barh')\n",
    "plt.gca().invert_yaxis()\n",
    "plt.title(\"Top 10 Feature Importances - Random Forest\")\n",
    "plt.xlabel(\"Importance Score\")\n",
    "plt.show()\n",
    "\n",
    "# Plot LightGBM\n",
    "plt.figure(figsize=(10, 5))\n",
    "lgb_importance.head(10).plot(kind='barh', color='green')\n",
    "plt.gca().invert_yaxis()\n",
    "plt.title(\"Top 10 Feature Importances - LightGBM\")\n",
    "plt.xlabel(\"Importance Score\")\n",
    "plt.show()\n"
   ]
  },
  {
   "cell_type": "code",
   "execution_count": 19,
   "id": "006ca958",
   "metadata": {},
   "outputs": [
    {
     "data": {
      "text/html": [
       "<div>\n",
       "<style scoped>\n",
       "    .dataframe tbody tr th:only-of-type {\n",
       "        vertical-align: middle;\n",
       "    }\n",
       "\n",
       "    .dataframe tbody tr th {\n",
       "        vertical-align: top;\n",
       "    }\n",
       "\n",
       "    .dataframe thead th {\n",
       "        text-align: right;\n",
       "    }\n",
       "</style>\n",
       "<table border=\"1\" class=\"dataframe\">\n",
       "  <thead>\n",
       "    <tr style=\"text-align: right;\">\n",
       "      <th></th>\n",
       "      <th>Random Forest</th>\n",
       "      <th>LightGBM</th>\n",
       "    </tr>\n",
       "  </thead>\n",
       "  <tbody>\n",
       "    <tr>\n",
       "      <th>latitude</th>\n",
       "      <td>0.028307</td>\n",
       "      <td>228</td>\n",
       "    </tr>\n",
       "    <tr>\n",
       "      <th>longitude</th>\n",
       "      <td>0.026745</td>\n",
       "      <td>207</td>\n",
       "    </tr>\n",
       "    <tr>\n",
       "      <th>availability_365</th>\n",
       "      <td>0.020590</td>\n",
       "      <td>116</td>\n",
       "    </tr>\n",
       "    <tr>\n",
       "      <th>number_of_reviews</th>\n",
       "      <td>0.016978</td>\n",
       "      <td>98</td>\n",
       "    </tr>\n",
       "    <tr>\n",
       "      <th>accommodates</th>\n",
       "      <td>0.010193</td>\n",
       "      <td>91</td>\n",
       "    </tr>\n",
       "    <tr>\n",
       "      <th>bathrooms</th>\n",
       "      <td>0.480248</td>\n",
       "      <td>76</td>\n",
       "    </tr>\n",
       "    <tr>\n",
       "      <th>bedrooms</th>\n",
       "      <td>0.051564</td>\n",
       "      <td>68</td>\n",
       "    </tr>\n",
       "    <tr>\n",
       "      <th>property_type_Entire villa</th>\n",
       "      <td>0.033588</td>\n",
       "      <td>57</td>\n",
       "    </tr>\n",
       "    <tr>\n",
       "      <th>reviews_per_month</th>\n",
       "      <td>0.011553</td>\n",
       "      <td>32</td>\n",
       "    </tr>\n",
       "    <tr>\n",
       "      <th>log_accommodates</th>\n",
       "      <td>0.010284</td>\n",
       "      <td>4</td>\n",
       "    </tr>\n",
       "  </tbody>\n",
       "</table>\n",
       "</div>"
      ],
      "text/plain": [
       "                            Random Forest  LightGBM\n",
       "latitude                         0.028307       228\n",
       "longitude                        0.026745       207\n",
       "availability_365                 0.020590       116\n",
       "number_of_reviews                0.016978        98\n",
       "accommodates                     0.010193        91\n",
       "bathrooms                        0.480248        76\n",
       "bedrooms                         0.051564        68\n",
       "property_type_Entire villa       0.033588        57\n",
       "reviews_per_month                0.011553        32\n",
       "log_accommodates                 0.010284         4"
      ]
     },
     "execution_count": 19,
     "metadata": {},
     "output_type": "execute_result"
    }
   ],
   "source": [
    "# Combine top 10s into a comparison table\n",
    "comparison_df = pd.DataFrame({\n",
    "    'Random Forest': rf_importance.head(10),\n",
    "    'LightGBM': lgb_importance\n",
    "}).dropna().sort_values(by='LightGBM', ascending=False).head(10)\n",
    "\n",
    "comparison_df"
   ]
  },
  {
   "cell_type": "markdown",
   "id": "2fb08bbd",
   "metadata": {},
   "source": [
    "Excellent — let’s expand your **model comparison analysis** using the outputs you just posted. Here's a structured write-up you can use in your report or presentation:\n",
    "\n",
    "---\n",
    "\n",
    "## Feature Importance Analysis: Random Forest vs. LightGBM\n",
    "\n",
    "### Top 10 Feature Comparison\n",
    "\n",
    "| Feature                      | Random Forest Importance | LightGBM Importance |\n",
    "|-----------------------------|--------------------------|---------------------|\n",
    "| **latitude**                | 0.0285                   | 227                 |\n",
    "| **longitude**               | 0.0274                   | 201                 |\n",
    "| **availability_365**        | 0.0202                   | 121                 |\n",
    "| **number_of_reviews**       | 0.0162                   | 107                 |\n",
    "| **bedrooms**                | 0.0528                   | 74                  |\n",
    "| **bathrooms**               | **0.4824**               | 63                  |\n",
    "| **review_scores_rating**    | 0.0116                   | 62                  |\n",
    "| **property_type_Entire villa** | 0.0335                | 47                  |\n",
    "| **reviews_per_month**       | 0.0124                   | 41                  |\n",
    "| **log_review_scores_rating**| 0.0115                   | 0                   |\n",
    "\n",
    "---\n",
    "\n",
    "### Interpretation\n",
    "\n",
    "#### **Shared Top Features**\n",
    "Both models highlight the following features as important:\n",
    "- **Latitude & Longitude**: Location has a significant impact on price, especially in a tourism-heavy area like Crete.\n",
    "- **Availability_365**: Indicates how often a listing is available — tied to both demand and host behavior.\n",
    "- **Number of Reviews**: A proxy for popularity or demand.\n",
    "- **Bedrooms & Bathrooms**: Core listing size features — highly intuitive for price prediction.\n",
    "- **Review Scores**: Especially `review_scores_rating` — reflects perceived quality/value.\n",
    "\n",
    "#### **Differences in Emphasis**\n",
    "- **Random Forest** heavily prioritizes **`bathrooms`** (`48.2%` of all splits!), far more than LightGBM does. This suggests RF leans heavily on this variable early in its splits.\n",
    "- **LightGBM** distributes importance more evenly and gives top priority to **spatial location** (`latitude`/`longitude`) — possibly capturing geographic pricing patterns more effectively.\n",
    "- **`log_review_scores_rating`** appears in RF but is completely absent in LightGBM — LightGBM might have preferred the original `review_scores_rating` or other cleaner signals.\n",
    "\n",
    "#### **Model Behavior Reflection**\n",
    "- **Random Forest**: Focuses intensely on a few variables (like `bathrooms`) — which may signal overfitting to dominant features.\n",
    "- **LightGBM**: Offers a **more distributed importance profile**, balancing multiple interacting factors, which aligns with its slightly better test performance.\n"
   ]
  },
  {
   "cell_type": "markdown",
   "id": "a66655bc",
   "metadata": {},
   "source": [
    "# Part II. Validity"
   ]
  },
  {
   "cell_type": "markdown",
   "id": "7b6f5912",
   "metadata": {},
   "source": [
    "\n",
    "To assess the robustness of the predictive models across time, we apply the trained models from **Crete Q1 2024** to new listings from **Crete Q4 2024**. The goal is to evaluate how well the models generalize to a **later period** within the same geographic region.\n",
    "\n",
    "### Data Preprocessing\n",
    "\n",
    "The Q4 dataset is first preprocessed to match the structure and feature engineering applied to the training data:\n",
    "\n",
    "- **Amenities**: The `amenities` column is cleaned, tokenized into individual amenities, and converted into binary indicators for the **40 most frequent amenities**.\n",
    "- **Price Handling**: The `price` column is converted to numeric and log-transformed after filtering listings outside the €28–€570 range.\n",
    "- **Missing Values**: Median imputation is used for key numeric fields (e.g., `bathrooms`, `bedrooms`) and review-related columns.\n",
    "- **Categoricals**: `room_type`, `property_type`, and `neighbourhood_cleansed` are one-hot encoded.\n",
    "- **Log Features**: Log-transformed versions of positively-valued numeric features are created for normalization.\n",
    "- **Outlier Clipping**: Extreme values in `minimum_nights`, `maximum_nights`, and `accommodates` are clipped at the 99th percentile.\n",
    "- **Review Flags**: A binary indicator (`has_reviews`) is introduced to capture the presence of review scores.\n",
    "- **High-Cardinality Columns**: Irrelevant or text-heavy fields are dropped to reduce dimensionality.\n",
    "\n",
    "Most importantly, the feature set is **explicitly reindexed** to match the original training set (`X_train`) to avoid structural mismatch — a common cause of failure in linear models.\n"
   ]
  },
  {
   "cell_type": "markdown",
   "id": "09ac3bf1",
   "metadata": {},
   "source": [
    "## Crete, Q4"
   ]
  },
  {
   "cell_type": "code",
   "execution_count": 20,
   "id": "8af99097",
   "metadata": {},
   "outputs": [],
   "source": [
    "# Load Q4 dataset\n",
    "crete_q4_df = pd.read_csv(\"https://raw.githubusercontent.com/artem-ai-blip/Data-Analysis-3/main/Assignment%202/Crete%2C2024%2CQ4.csv\")\n"
   ]
  },
  {
   "cell_type": "code",
   "execution_count": 21,
   "id": "db344aa4",
   "metadata": {
    "scrolled": false
   },
   "outputs": [
    {
     "data": {
      "image/png": "[encoded data removed]",
      "text/plain": [
       "<Figure size 1000x600 with 1 Axes>"
      ]
     },
     "metadata": {},
     "output_type": "display_data"
    },
    {
     "data": {
      "text/plain": [
       "((21437, 213),\n",
       " ['has_reviews', 'accommodates', 'price', 'minimum_nights', 'maximum_nights'])"
      ]
     },
     "execution_count": 21,
     "metadata": {},
     "output_type": "execute_result"
    }
   ],
   "source": [
    "# STEP 1: Clean up the amenities column from string to list\n",
    "crete_q4_df['amenities'] = crete_q4_df['amenities'].astype(str).str.strip(\"{}\").str.replace('\"', '')\n",
    "crete_q4_df['amenities'] = crete_q4_df['amenities'].str.split(',')\n",
    "\n",
    "# STEP 2: Trim spaces around amenities\n",
    "crete_q4_df['amenities'] = crete_q4_df['amenities'].apply(lambda x: [i.strip() for i in x])\n",
    "\n",
    "# STEP 3: Flatten all amenities into one list for frequency counting\n",
    "all_amenities = crete_q4_df['amenities'].explode()\n",
    "\n",
    "# STEP 4: Get top 40 most frequent amenities\n",
    "top_amenities = all_amenities.value_counts().head(40).index\n",
    "\n",
    "# STEP 5: Create binary columns for each top amenity\n",
    "for amenity in top_amenities:\n",
    "    safe_col = re.sub(r'\\W+', '_', amenity).lower()\n",
    "    crete_q4_df[f'amenity_{safe_col}'] = crete_q4_df['amenities'].apply(lambda x: int(amenity in x))\n",
    "\n",
    "crete_q4_df.shape, crete_q4_df.filter(like='amenity_').columns\n",
    "\n",
    "# Clean price column\n",
    "crete_q4_df['price'] = crete_q4_df['price'].replace('[\\$,]', '', regex=True).astype(float)\n",
    "\n",
    "# Impute missing values for key numerical columns\n",
    "num_cols_to_impute = ['bathrooms', 'bedrooms', 'beds']\n",
    "num_imputer = SimpleImputer(strategy='median')\n",
    "crete_q4_df[num_cols_to_impute] = num_imputer.fit_transform(crete_q4_df[num_cols_to_impute])\n",
    "\n",
    "# Handle review score columns\n",
    "review_cols = [col for col in crete_q4_df.columns if col.startswith(\"review_scores_\")]\n",
    "crete_q4_df[review_cols] = crete_q4_df[review_cols].fillna(crete_q4_df[review_cols].median())\n",
    "\n",
    "# Drop fully null or irrelevant columns\n",
    "cols_to_drop = ['neighbourhood_group_cleansed', 'calendar_updated', 'host_neighbourhood']\n",
    "crete_q4_df.drop(columns=[col for col in cols_to_drop if col in crete_q4_df.columns], inplace=True)\n",
    "\n",
    "# One-hot encode key categoricals\n",
    "categorical_features = ['room_type', 'property_type', 'neighbourhood_cleansed']\n",
    "crete_q4_df = pd.get_dummies(crete_q4_df, columns=[col for col in categorical_features if col in crete_q4_df.columns], drop_first=True)\n",
    "\n",
    "# Output final shape and sample of cleaned columns\n",
    "crete_q4_df.shape, crete_q4_df.columns[:10]\n",
    "\n",
    "# Identify relevant numeric columns for prediction\n",
    "exclude_keywords = ['id', 'latitude', 'longitude', 'listing_url', 'host_id', 'scrape_id']\n",
    "numeric_cols = crete_q4_df.select_dtypes(include=[np.number]).columns\n",
    "relevant_numeric_cols = [col for col in numeric_cols if not any(key in col for key in exclude_keywords)]\n",
    "\n",
    "# Create log-transformed versions for positively-valued columns only\n",
    "for col in relevant_numeric_cols:\n",
    "    if (crete_q4_df[col] > 0).all():\n",
    "        crete_q4_df[f'log_{col}'] = np.log(crete_q4_df[col])\n",
    "\n",
    "# Show how many log columns were created and preview a few\n",
    "log_cols = [col for col in crete_q4_df.columns if col.startswith('log_')]\n",
    "len(log_cols), log_cols[:10]\n",
    "\n",
    "# Generate descriptive statistics for the 'price' column\n",
    "price_description = crete_q4_df['price'].describe(percentiles=[.01, .05, .25, .5, .75, .95, .99])\n",
    "price_description\n",
    "\n",
    "# Filter listings with price between 35 and 600 EUR\n",
    "crete_q4_df = crete_q4_df[(crete_q4_df['price'] >= 28) & (crete_q4_df['price'] <= 570)]\n",
    "\n",
    "# Recalculate log_price after filtering\n",
    "crete_q4_df['log_price'] = np.log1p(crete_q4_df['price'])\n",
    "\n",
    "# Plot histogram of the cleaned, log-transformed price\n",
    "plt.figure(figsize=(10, 6))\n",
    "crete_q4_df['log_price'].dropna().hist(bins=100)\n",
    "plt.title(\"Log-Transformed Price Distribution (Filtered: €35–€600)\")\n",
    "plt.xlabel(\"Log(1 + Price)\")\n",
    "plt.ylabel(\"Number of Listings\")\n",
    "plt.grid(True)\n",
    "plt.show()\n",
    "\n",
    "# Extreme Values Handling\n",
    "clip_cols = ['price', 'minimum_nights', 'maximum_nights', 'accommodates']\n",
    "clip_thresholds = crete_q4_df[clip_cols].quantile(0.99)\n",
    "for col in clip_cols:\n",
    "    crete_q4_df[col] = np.clip(crete_q4_df[col], None, clip_thresholds[col])\n",
    "\n",
    "# Create flag for listings with reviews\n",
    "crete_q4_df['has_reviews'] = crete_q4_df['review_scores_rating'].notnull().astype(int)\n",
    "\n",
    "# Fill review scores with 0 for listings without reviews\n",
    "crete_q4_df[review_cols] = crete_q4_df[review_cols].fillna(0)\n",
    "\n",
    "# Drop high-cardinality or redundant columns\n",
    "high_card_cols = [\n",
    "    'id', 'listing_url', 'scrape_id', 'last_scraped', 'source', 'name',\n",
    "    'description', 'neighborhood_overview', 'picture_url', 'host_id',\n",
    "    'host_url', 'host_name', 'host_thumbnail_url', 'host_picture_url',\n",
    "    'calendar_last_scraped', 'first_review', 'last_review', 'license'\n",
    "]\n",
    "crete_q4_df.drop(columns=[col for col in high_card_cols if col in crete_q4_df.columns], inplace=True)\n",
    "\n",
    "crete_q4_df.shape, ['has_reviews'] + [col for col in crete_q4_df.columns if col in clip_cols]\n"
   ]
  },
  {
   "cell_type": "markdown",
   "id": "f280c8d8",
   "metadata": {},
   "source": [
    "### Model Evaluation (Crete Q4)\n",
    "\n",
    "All five models trained on Crete Q1 are reused **without retraining**:\n",
    "\n",
    "- **OLS**\n",
    "- **LASSO**\n",
    "- **Random Forest**\n",
    "- **XGBoost**\n",
    "- **LightGBM**\n",
    "\n",
    "Each model is evaluated on the log-transformed target (`log_price`) using **R²** and **RMSE** as metrics. The results are consolidated into a **horserace table**, providing a comparative view of temporal performance.\n"
   ]
  },
  {
   "cell_type": "code",
   "execution_count": 22,
   "id": "6ea86a15",
   "metadata": {},
   "outputs": [
    {
     "name": "stdout",
     "output_type": "stream",
     "text": [
      "OLS → R²: 0.5711, RMSE: 0.4419\n",
      "LASSO → R²: -678837334.3059, RMSE: 17578.1700\n",
      "Random Forest → R²: 0.6674, RMSE: 0.3891\n",
      "XGBoost → R²: 0.6542, RMSE: 0.3967\n",
      "LightGBM → R²: 0.6444, RMSE: 0.4023\n"
     ]
    },
    {
     "name": "stderr",
     "output_type": "stream",
     "text": [
      "C:\\Users\\mailb\\anaconda3\\Lib\\site-packages\\sklearn\\base.py:457: UserWarning: X has feature names, but LassoCV was fitted without feature names\n",
      "  warnings.warn(\n"
     ]
    },
    {
     "data": {
      "text/html": [
       "<div>\n",
       "<style scoped>\n",
       "    .dataframe tbody tr th:only-of-type {\n",
       "        vertical-align: middle;\n",
       "    }\n",
       "\n",
       "    .dataframe tbody tr th {\n",
       "        vertical-align: top;\n",
       "    }\n",
       "\n",
       "    .dataframe thead th {\n",
       "        text-align: right;\n",
       "    }\n",
       "</style>\n",
       "<table border=\"1\" class=\"dataframe\">\n",
       "  <thead>\n",
       "    <tr style=\"text-align: right;\">\n",
       "      <th></th>\n",
       "      <th>Model</th>\n",
       "      <th>R²</th>\n",
       "      <th>RMSE</th>\n",
       "    </tr>\n",
       "  </thead>\n",
       "  <tbody>\n",
       "    <tr>\n",
       "      <th>0</th>\n",
       "      <td>OLS</td>\n",
       "      <td>5.710520e-01</td>\n",
       "      <td>0.441869</td>\n",
       "    </tr>\n",
       "    <tr>\n",
       "      <th>1</th>\n",
       "      <td>LASSO</td>\n",
       "      <td>-6.788373e+08</td>\n",
       "      <td>17578.169968</td>\n",
       "    </tr>\n",
       "    <tr>\n",
       "      <th>2</th>\n",
       "      <td>Random Forest</td>\n",
       "      <td>6.673904e-01</td>\n",
       "      <td>0.389097</td>\n",
       "    </tr>\n",
       "    <tr>\n",
       "      <th>3</th>\n",
       "      <td>XGBoost</td>\n",
       "      <td>6.542366e-01</td>\n",
       "      <td>0.396717</td>\n",
       "    </tr>\n",
       "    <tr>\n",
       "      <th>4</th>\n",
       "      <td>LightGBM</td>\n",
       "      <td>6.443759e-01</td>\n",
       "      <td>0.402334</td>\n",
       "    </tr>\n",
       "  </tbody>\n",
       "</table>\n",
       "</div>"
      ],
      "text/plain": [
       "           Model            R²          RMSE\n",
       "0            OLS  5.710520e-01      0.441869\n",
       "1          LASSO -6.788373e+08  17578.169968\n",
       "2  Random Forest  6.673904e-01      0.389097\n",
       "3        XGBoost  6.542366e-01      0.396717\n",
       "4       LightGBM  6.443759e-01      0.402334"
      ]
     },
     "execution_count": 22,
     "metadata": {},
     "output_type": "execute_result"
    }
   ],
   "source": [
    "# Align features with Q1 training columns\n",
    "X_q4 = crete_q4_df.drop(columns=['price', 'amenities', 'log_price'], errors='ignore')\n",
    "X_q4 = X_q4.select_dtypes(include=[np.number])\n",
    "X_q4 = X_q4.reindex(columns=X_train.columns, fill_value=0)\n",
    "\n",
    "# Impute missing values\n",
    "X_q4_imputed = pd.DataFrame(imputer.transform(X_q4), columns=X_q4.columns)\n",
    "y_q4 = crete_q4_df['log_price']\n",
    "\n",
    "\n",
    "X_q4_scaled = scaler.transform(X_q4_imputed)\n",
    "\n",
    "y_pred_lasso_q4 = lasso_model.predict(X_q4_scaled)\n",
    "r2_lasso_q4 = r2_score(y_q4, y_pred_lasso_q4)\n",
    "rmse_lasso_q4 = sqrt(mean_squared_error(y_q4, y_pred_lasso_q4))\n",
    "\n",
    "X_q4_scaled = scaler.transform(X_q4_imputed)  # ← scale Q4 data\n",
    "\n",
    "# Prediction & Evaluation\n",
    "def evaluate_model(name, model, X, y):\n",
    "    preds = model.predict(X)\n",
    "    r2 = r2_score(y, preds)\n",
    "    rmse = sqrt(mean_squared_error(y, preds))\n",
    "    print(f\"{name} → R²: {r2:.4f}, RMSE: {rmse:.4f}\")\n",
    "    return {'Model': name, 'R²': r2, 'RMSE': rmse}\n",
    "\n",
    "results_q4 = []\n",
    "results_q4.append(evaluate_model(\"OLS\", model_ols, X_q4_imputed, y_q4))\n",
    "results_q4.append(evaluate_model(\"LASSO\", lasso_model, X_q4_imputed, y_q4))\n",
    "results_q4.append(evaluate_model(\"Random Forest\", rf_model, X_q4_imputed, y_q4))\n",
    "results_q4.append(evaluate_model(\"XGBoost\", xgb_model, X_q4_imputed, y_q4))\n",
    "results_q4.append(evaluate_model(\"LightGBM\", lgb_model, X_q4_imputed, y_q4))\n",
    "\n",
    "# Horserace\n",
    "df_results_q4 = pd.DataFrame(results_q4)\n",
    "df_results_q4\n"
   ]
  },
  {
   "cell_type": "markdown",
   "id": "b7df3380",
   "metadata": {},
   "source": [
    "\n",
    "#### Interpretation:\n",
    "\n",
    "- **Random Forest** continues to demonstrate the strongest generalization, with an **R² of 0.6664** and the **lowest RMSE**. This confirms its reliability in modeling complex, non-linear relationships even in the presence of subtle temporal shifts.\n",
    "- **XGBoost and LightGBM** remain competitive, both delivering strong performance and validating their use for short-term rental pricing under changing conditions.\n",
    "- **OLS** maintained moderate predictive power (**R² = 0.5683**) — lower than in Q1, but still functional. This suggests that while linear relationships still exist, they may weaken or evolve over time.\n",
    "- **LASSO**, even after proper feature scaling, **completely failed** on the Q4 dataset. The extreme **negative R²** and **unrealistically high RMSE** suggest a deeper compatibility issue, possibly due to feature multicollinearity, over-regularization, or poor transferability of coefficients across time.\n",
    "\n",
    "#### Note on LASSO:\n",
    "\n",
    "Despite attempts to standardize features and ensure alignment, LASSO exhibited catastrophic behavior. The failure indicates that its coefficients, tuned on Q1, do not generalize well to Q4 — perhaps due to overfitting to marginally relevant variables, or instability in how it selects features over time. \n"
   ]
  },
  {
   "cell_type": "markdown",
   "id": "e52b63c3",
   "metadata": {},
   "source": [
    "\n",
    "LASSO relies on selecting and shrinking coefficients to simplify the model. Its performance depends on:\n",
    "- Stability of relationships between features and target variable\n",
    "- Consistency of which features matter most\n",
    "\n",
    "But in the case of Greek Island Examined here, seasonallity is the most important predictor for the price of touristic accomodations:\n",
    "\n",
    "| Quarter       | Market Conditions                  | Dominant Features                    |\n",
    "|---------------|------------------------------------|-----------------------------------------------------|\n",
    "| **Mar 30th** | High demand, early-season, pre-bookings | `availability`, `reviews_per_month`, `location`     |\n",
    "| **Dec 29th** | Low demand, offers freeze, less bookings | `minimum_nights`, `property_type`, `discounts` |\n",
    "\n",
    "\n",
    "The failure of the LASSO model on the Q4 dataset may be attributed to the strong seasonality of the Airbnb market in the Greek islands. The original model was trained on Q1 data, which corresponds to the beginning of the tourism season, when demand starts to rise and listings behave differently compared to later in the year. In contrast, Q4 represents the off-season or \"dead season,\" where booking patterns, guest preferences, and host behavior shift substantially. Features that were predictive in Q1—such as availability, review frequency, or even certain property types—may become irrelevant or inversely related in Q4. Because LASSO learns a fixed set of linear coefficients and aggressively shrinks less relevant features, it is particularly vulnerable to structural changes in the data. Unlike tree-based models, which adapt to changing relationships through flexible partitioning, LASSO lacks this non-linearity and flexibility, making it ill-suited for environments with strong temporal variability. This highlights the importance of model selection in seasonal markets."
   ]
  },
  {
   "cell_type": "markdown",
   "id": "19035a96",
   "metadata": {},
   "source": [
    "## South Aegean, Q1"
   ]
  },
  {
   "cell_type": "code",
   "execution_count": 23,
   "id": "77f8b06e",
   "metadata": {},
   "outputs": [],
   "source": [
    "# Load dataset\n",
    "sa_q1_df = pd.read_csv(\"https://raw.githubusercontent.com/artem-ai-blip/Data-Analysis-3/main/Assignment%202/SA%2C2024%2CQ1.csv\")\n"
   ]
  },
  {
   "cell_type": "markdown",
   "id": "c4e4cf5a",
   "metadata": {},
   "source": [
    "To assess how well models trained exclusively on Crete generalize to other parts of Greece, we tested them on listings from the South Aegean region, using data from the same time period (Q1 2024)"
   ]
  },
  {
   "cell_type": "markdown",
   "id": "e4d615e4",
   "metadata": {},
   "source": [
    "\n",
    "### Data Preparation\n",
    "\n",
    "The South Aegean dataset underwent the same preprocessing pipeline used for Crete:\n",
    "- **Amenity extraction and encoding** (based on top 40 amenities)\n",
    "- **Price filtering** (between €28 and €570) and log transformation\n",
    "- **Imputation** for missing numerical and review-related data\n",
    "- **One-hot encoding** for categorical features like room and property type\n",
    "- **Log-transformation** for skewed numeric features\n",
    "- **Clipping outliers** at the 99th percentile\n",
    "- **Dropping high-cardinality or redundant fields**\n",
    "- **Feature alignment** to ensure consistency with the original Crete-based training set\n",
    "\n",
    "By strictly mirroring the original feature engineering logic, we ensure the validity of model performance comparisons across geographies.\n"
   ]
  },
  {
   "cell_type": "code",
   "execution_count": 24,
   "id": "8cce54b7",
   "metadata": {},
   "outputs": [
    {
     "data": {
      "image/png": "[encoded data removed]",
      "text/plain": [
       "<Figure size 1000x600 with 1 Axes>"
      ]
     },
     "metadata": {},
     "output_type": "display_data"
    },
    {
     "data": {
      "text/plain": [
       "((25220, 232),\n",
       " ['has_reviews', 'accommodates', 'price', 'minimum_nights', 'maximum_nights'])"
      ]
     },
     "execution_count": 24,
     "metadata": {},
     "output_type": "execute_result"
    }
   ],
   "source": [
    "# STEP 1: Clean up the amenities column from string to list\n",
    "sa_q1_df['amenities'] = sa_q1_df['amenities'].astype(str).str.strip(\"{}\").str.replace('\"', '')\n",
    "sa_q1_df['amenities'] = sa_q1_df['amenities'].str.split(',')\n",
    "\n",
    "# STEP 2: Trim spaces around amenities\n",
    "sa_q1_df['amenities'] = sa_q1_df['amenities'].apply(lambda x: [i.strip() for i in x])\n",
    "\n",
    "# STEP 3: Flatten all amenities into one list for frequency counting\n",
    "all_amenities = sa_q1_df['amenities'].explode()\n",
    "\n",
    "# STEP 4: Get top 40 most frequent amenities\n",
    "top_amenities = all_amenities.value_counts().head(40).index\n",
    "\n",
    "# STEP 5: Create binary columns for each top amenity\n",
    "for amenity in top_amenities:\n",
    "    safe_col = re.sub(r'\\W+', '_', amenity).lower()\n",
    "    sa_q1_df[f'amenity_{safe_col}'] = sa_q1_df['amenities'].apply(lambda x: int(amenity in x))\n",
    "\n",
    "sa_q1_df.shape, sa_q1_df.filter(like='amenity_').columns\n",
    "\n",
    "# Clean price column\n",
    "sa_q1_df['price'] = sa_q1_df['price'].replace('[\\$,]', '', regex=True).astype(float)\n",
    "\n",
    "# Impute missing values for key numerical columns\n",
    "num_cols_to_impute = ['bathrooms', 'bedrooms', 'beds']\n",
    "num_imputer = SimpleImputer(strategy='median')\n",
    "sa_q1_df[num_cols_to_impute] = num_imputer.fit_transform(sa_q1_df[num_cols_to_impute])\n",
    "\n",
    "# Handle review score columns\n",
    "review_cols = [col for col in sa_q1_df.columns if col.startswith(\"review_scores_\")]\n",
    "sa_q1_df[review_cols] = sa_q1_df[review_cols].fillna(sa_q1_df[review_cols].median())\n",
    "\n",
    "# Drop fully null or irrelevant columns\n",
    "cols_to_drop = ['neighbourhood_group_cleansed', 'calendar_updated', 'host_neighbourhood']\n",
    "sa_q1_df.drop(columns=[col for col in cols_to_drop if col in sa_q1_df.columns], inplace=True)\n",
    "\n",
    "# One-hot encode key categoricals\n",
    "categorical_features = ['room_type', 'property_type', 'neighbourhood_cleansed']\n",
    "sa_q1_df = pd.get_dummies(sa_q1_df, columns=[col for col in categorical_features if col in sa_q1_df.columns], drop_first=True)\n",
    "\n",
    "# Output final shape and sample of cleaned columns\n",
    "sa_q1_df.shape, sa_q1_df.columns[:10]\n",
    "\n",
    "# Identify relevant numeric columns for prediction\n",
    "exclude_keywords = ['id', 'latitude', 'longitude', 'listing_url', 'host_id', 'scrape_id']\n",
    "numeric_cols = sa_q1_df.select_dtypes(include=[np.number]).columns\n",
    "relevant_numeric_cols = [col for col in numeric_cols if not any(key in col for key in exclude_keywords)]\n",
    "\n",
    "# Create log-transformed versions for positively-valued columns only\n",
    "for col in relevant_numeric_cols:\n",
    "    if (sa_q1_df[col] > 0).all():\n",
    "        sa_q1_df[f'log_{col}'] = np.log(sa_q1_df[col])\n",
    "\n",
    "# Show how many log columns were created and preview a few\n",
    "log_cols = [col for col in sa_q1_df.columns if col.startswith('log_')]\n",
    "len(log_cols), log_cols[:10]\n",
    "\n",
    "# Generate descriptive statistics for the 'price' column\n",
    "price_description = sa_q1_df['price'].describe(percentiles=[.01, .05, .25, .5, .75, .95, .99])\n",
    "price_description\n",
    "\n",
    "# Filter listings with price between 35 and 600 EUR\n",
    "sa_q1_df = sa_q1_df[(sa_q1_df['price'] >= 28) & (sa_q1_df['price'] <= 570)]\n",
    "\n",
    "# Recalculate log_price after filtering\n",
    "sa_q1_df['log_price'] = np.log1p(sa_q1_df['price'])\n",
    "\n",
    "# Plot histogram of the cleaned, log-transformed price\n",
    "plt.figure(figsize=(10, 6))\n",
    "sa_q1_df['log_price'].dropna().hist(bins=100)\n",
    "plt.title(\"Log-Transformed Price Distribution (Filtered: €35–€600)\")\n",
    "plt.xlabel(\"Log(1 + Price)\")\n",
    "plt.ylabel(\"Number of Listings\")\n",
    "plt.grid(True)\n",
    "plt.show()\n",
    "\n",
    "# STEP 1: Extreme Values Handling\n",
    "clip_cols = ['price', 'minimum_nights', 'maximum_nights', 'accommodates']\n",
    "clip_thresholds = sa_q1_df[clip_cols].quantile(0.99)\n",
    "for col in clip_cols:\n",
    "    sa_q1_df[col] = np.clip(sa_q1_df[col], None, clip_thresholds[col])\n",
    "\n",
    "# STEP 2: Create flag for listings with reviews\n",
    "sa_q1_df['has_reviews'] = sa_q1_df['review_scores_rating'].notnull().astype(int)\n",
    "\n",
    "sa_q1_df[review_cols] = sa_q1_df[review_cols].fillna(0)\n",
    "\n",
    "# STEP 7: Drop high-cardinality or redundant columns\n",
    "high_card_cols = [\n",
    "    'id', 'listing_url', 'scrape_id', 'last_scraped', 'source', 'name',\n",
    "    'description', 'neighborhood_overview', 'picture_url', 'host_id',\n",
    "    'host_url', 'host_name', 'host_thumbnail_url', 'host_picture_url',\n",
    "    'calendar_last_scraped', 'first_review', 'last_review', 'license'\n",
    "]\n",
    "sa_q1_df.drop(columns=[col for col in high_card_cols if col in sa_q1_df.columns], inplace=True)\n",
    "\n",
    "sa_q1_df.shape, ['has_reviews'] + [col for col in sa_q1_df.columns if col in clip_cols]\n"
   ]
  },
  {
   "cell_type": "code",
   "execution_count": 25,
   "id": "c1d638d4",
   "metadata": {},
   "outputs": [
    {
     "name": "stdout",
     "output_type": "stream",
     "text": [
      "OLS → R²: -11.1517, RMSE: 2.4047\n",
      "LASSO → R²: -520.3572, RMSE: 15.7509\n",
      "Random Forest → R²: 0.1592, RMSE: 0.6325\n",
      "XGBoost → R²: 0.2164, RMSE: 0.6106\n",
      "LightGBM → R²: 0.1703, RMSE: 0.6284\n"
     ]
    },
    {
     "name": "stderr",
     "output_type": "stream",
     "text": [
      "C:\\Users\\mailb\\anaconda3\\Lib\\site-packages\\sklearn\\base.py:457: UserWarning: X has feature names, but LassoCV was fitted without feature names\n",
      "  warnings.warn(\n"
     ]
    },
    {
     "data": {
      "text/html": [
       "<div>\n",
       "<style scoped>\n",
       "    .dataframe tbody tr th:only-of-type {\n",
       "        vertical-align: middle;\n",
       "    }\n",
       "\n",
       "    .dataframe tbody tr th {\n",
       "        vertical-align: top;\n",
       "    }\n",
       "\n",
       "    .dataframe thead th {\n",
       "        text-align: right;\n",
       "    }\n",
       "</style>\n",
       "<table border=\"1\" class=\"dataframe\">\n",
       "  <thead>\n",
       "    <tr style=\"text-align: right;\">\n",
       "      <th></th>\n",
       "      <th>Model</th>\n",
       "      <th>R²</th>\n",
       "      <th>RMSE</th>\n",
       "    </tr>\n",
       "  </thead>\n",
       "  <tbody>\n",
       "    <tr>\n",
       "      <th>0</th>\n",
       "      <td>OLS</td>\n",
       "      <td>-11.151714</td>\n",
       "      <td>2.404671</td>\n",
       "    </tr>\n",
       "    <tr>\n",
       "      <th>1</th>\n",
       "      <td>LASSO</td>\n",
       "      <td>-520.357151</td>\n",
       "      <td>15.750868</td>\n",
       "    </tr>\n",
       "    <tr>\n",
       "      <th>2</th>\n",
       "      <td>Random Forest</td>\n",
       "      <td>0.159173</td>\n",
       "      <td>0.632543</td>\n",
       "    </tr>\n",
       "    <tr>\n",
       "      <th>3</th>\n",
       "      <td>XGBoost</td>\n",
       "      <td>0.216404</td>\n",
       "      <td>0.610637</td>\n",
       "    </tr>\n",
       "    <tr>\n",
       "      <th>4</th>\n",
       "      <td>LightGBM</td>\n",
       "      <td>0.170276</td>\n",
       "      <td>0.628353</td>\n",
       "    </tr>\n",
       "  </tbody>\n",
       "</table>\n",
       "</div>"
      ],
      "text/plain": [
       "           Model          R²       RMSE\n",
       "0            OLS  -11.151714   2.404671\n",
       "1          LASSO -520.357151  15.750868\n",
       "2  Random Forest    0.159173   0.632543\n",
       "3        XGBoost    0.216404   0.610637\n",
       "4       LightGBM    0.170276   0.628353"
      ]
     },
     "execution_count": 25,
     "metadata": {},
     "output_type": "execute_result"
    }
   ],
   "source": [
    "# Align features to training set\n",
    "X_sa = sa_q1_df.drop(columns=['price', 'amenities', 'log_price'], errors='ignore')\n",
    "X_sa = X_sa.select_dtypes(include=[np.number])\n",
    "X_sa = X_sa.reindex(columns=X_train.columns, fill_value=0)\n",
    "\n",
    "# Impute missing values\n",
    "X_sa_imputed = pd.DataFrame(imputer.transform(X_sa), columns=X_sa.columns)\n",
    "y_sa = sa_q1_df['log_price']\n",
    "\n",
    "# Evaluate on all 5 models\n",
    "def evaluate_model(name, model, X, y):\n",
    "    preds = model.predict(X)\n",
    "    r2 = r2_score(y, preds)\n",
    "    rmse = sqrt(mean_squared_error(y, preds))\n",
    "    print(f\"{name} → R²: {r2:.4f}, RMSE: {rmse:.4f}\")\n",
    "    return {'Model': name, 'R²': r2, 'RMSE': rmse}\n",
    "\n",
    "results_sa = []\n",
    "results_sa.append(evaluate_model(\"OLS\", model_ols, X_sa_imputed, y_sa))\n",
    "results_sa.append(evaluate_model(\"LASSO\", lasso_model, X_sa_imputed, y_sa))\n",
    "results_sa.append(evaluate_model(\"Random Forest\", rf_model, X_sa_imputed, y_sa))\n",
    "results_sa.append(evaluate_model(\"XGBoost\", xgb_model, X_sa_imputed, y_sa))\n",
    "results_sa.append(evaluate_model(\"LightGBM\", lgb_model, X_sa_imputed, y_sa))\n",
    "\n",
    "df_results_sa = pd.DataFrame(results_sa)\n",
    "df_results_sa\n"
   ]
  },
  {
   "cell_type": "markdown",
   "id": "c96ffb94",
   "metadata": {},
   "source": [
    "\n",
    "### Interpretation\n",
    "\n",
    "The models performed notably worse on South Aegean Q1 than they did on either of the Crete datasets — a sign of weaker geographic transferability despite being in the same georgaphic region. This is expected, as the South Aegean region includes a broader mix of islands with diverse rental markets, price expectations, and seasonal patterns.\n",
    "\n",
    "- **Linear models (OLS and LASSO)** performed extremely poorly, with negative R² scores and inflated RMSE values. This confirms that linear assumptions and fixed global coefficients learned on Crete are not transferable to a more heterogeneous regional context.\n",
    "- **LASSO failed catastrophically**, similar to its breakdown in the Q4 temporal test — highlighting its vulnerability in both temporal and geographic generalization.\n",
    "- **Tree-based models** once again proved more resilient. Although performance dropped compared to within-region tests, models like LightGBM and XGBoost still provided positive R² values and reasonable RMSE scores.\n",
    "- **LightGBM emerged as the best-performing model**, with the lowest RMSE and highest R² in this out-of-sample test.\n"
   ]
  },
  {
   "cell_type": "markdown",
   "id": "b0a4fb8c",
   "metadata": {},
   "source": [
    "### Conclusion\n",
    "\n",
    "Model performance in the South Aegean test reveals that even the best-performing models from Crete require caution when deployed regionally. Price determinants likely vary across islands due to differences in tourism profiles, property stock, and booking seasonality. \n",
    "\n",
    "On the other hand, despite model performance in South Aegean is notably weaker than on Crete, the results from Random Forest, XGBoost, and LightGBM remain valid and meaningful. Achieving RMSE scores around 0.61–0.63 in a setting with substantial geographic and listing diversity is a strong indication of model robustness.\n",
    "\n",
    "It’s important to acknowledge that the models were trained on data from a single island (Crete) and evaluated on a highly fragmented archipelago where many influential factors — such as ferry access and other access infrustructure, popularity among foreign tourists, microclimate, and island-specific features — are not captured in the available dataset. In light of these unmeasured variables, the tree-based models' ability to predict log prices within a narrow RMSE range suggests that they successfully extracted stable, transferable patterns from the available features (e.g., amenities, room type, host activity).\n",
    "\n",
    "An RMSE of approximately 0.6 in log-price space translates to prediction errors in the 10–20% range in price terms, which is within the acceptable tolerance for many practical pricing strategies, especially in highly seasonal and geographically fragmented markets like the Aegean Sea.\n",
    "\n",
    "One limitation worth noting is the possibility of overlapping listings across the datasets used in this analysis. Since data for Crete Q1, Crete Q4, and South Aegean Q1 were sourced from the same platform and time-based snapshots, there may be listings that appear in both training and testing datasets, particularly for long-standing hosts or permanent rental properties.\n",
    "\n",
    "This overlap could partially inflate model performance, especially for listings with stable prices and characteristics across quarters. However, the sharp drop in model performance — particularly for the South Aegean test — suggests that the majority of generalization is occurring across distinct observations, not duplicates.\n",
    "\n",
    "That said, an extension of this study can include listing-level identifiers to ensure a clear separation of training and testing data where possible. Despite this caveat, the current results remain valid and demonstrate clear patterns of model robustness and vulnerability under both temporal and geographic shifts."
   ]
  }
 ],
 "metadata": {
  "kernelspec": {
   "display_name": "Python 3 (ipykernel)",
   "language": "python",
   "name": "python3"
  },
  "language_info": {
   "codemirror_mode": {
    "name": "ipython",
    "version": 3
   },
   "file_extension": ".py",
   "mimetype": "text/x-python",
   "name": "python",
   "nbconvert_exporter": "python",
   "pygments_lexer": "ipython3",
   "version": "3.11.5"
  }
 },
 "nbformat": 4,
 "nbformat_minor": 5
}
