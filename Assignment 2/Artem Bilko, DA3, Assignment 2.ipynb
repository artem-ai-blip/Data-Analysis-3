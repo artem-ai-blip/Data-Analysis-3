{
 "cells": [
  {
   "cell_type": "code",
   "execution_count": 1,
   "id": "e0759946",
   "metadata": {},
   "outputs": [],
   "source": [
    "import pandas as pd\n",
    "import numpy as np\n",
    "import time\n",
    "\n",
    "#!pip install xgboost\n",
    "#!pip install lightgbm"
   ]
  },
  {
   "cell_type": "code",
   "execution_count": 2,
   "id": "b0f3b9e7",
   "metadata": {},
   "outputs": [
    {
     "name": "stdout",
     "output_type": "stream",
     "text": [
      "<class 'pandas.core.frame.DataFrame'>\n",
      "RangeIndex: 25772 entries, 0 to 25771\n",
      "Data columns (total 18 columns):\n",
      " #   Column                          Non-Null Count  Dtype  \n",
      "---  ------                          --------------  -----  \n",
      " 0   id                              25772 non-null  object \n",
      " 1   name                            21603 non-null  object \n",
      " 2   host_id                         21602 non-null  float64\n",
      " 3   host_name                       21602 non-null  object \n",
      " 4   neighbourhood_group             0 non-null      float64\n",
      " 5   neighbourhood                   21602 non-null  object \n",
      " 6   latitude                        21602 non-null  float64\n",
      " 7   longitude                       21602 non-null  float64\n",
      " 8   room_type                       21602 non-null  object \n",
      " 9   price                           21077 non-null  float64\n",
      " 10  minimum_nights                  21602 non-null  float64\n",
      " 11  number_of_reviews               21602 non-null  float64\n",
      " 12  last_review                     15901 non-null  object \n",
      " 13  reviews_per_month               15901 non-null  float64\n",
      " 14  calculated_host_listings_count  21602 non-null  float64\n",
      " 15  availability_365                21602 non-null  float64\n",
      " 16  number_of_reviews_ltm           21602 non-null  float64\n",
      " 17  license;                        21602 non-null  object \n",
      "dtypes: float64(11), object(7)\n",
      "memory usage: 3.5+ MB\n"
     ]
    },
    {
     "data": {
      "text/html": [
       "<div>\n",
       "<style scoped>\n",
       "    .dataframe tbody tr th:only-of-type {\n",
       "        vertical-align: middle;\n",
       "    }\n",
       "\n",
       "    .dataframe tbody tr th {\n",
       "        vertical-align: top;\n",
       "    }\n",
       "\n",
       "    .dataframe thead th {\n",
       "        text-align: right;\n",
       "    }\n",
       "</style>\n",
       "<table border=\"1\" class=\"dataframe\">\n",
       "  <thead>\n",
       "    <tr style=\"text-align: right;\">\n",
       "      <th></th>\n",
       "      <th>id</th>\n",
       "      <th>name</th>\n",
       "      <th>host_id</th>\n",
       "      <th>host_name</th>\n",
       "      <th>neighbourhood_group</th>\n",
       "      <th>neighbourhood</th>\n",
       "      <th>latitude</th>\n",
       "      <th>longitude</th>\n",
       "      <th>room_type</th>\n",
       "      <th>price</th>\n",
       "      <th>minimum_nights</th>\n",
       "      <th>number_of_reviews</th>\n",
       "      <th>last_review</th>\n",
       "      <th>reviews_per_month</th>\n",
       "      <th>calculated_host_listings_count</th>\n",
       "      <th>availability_365</th>\n",
       "      <th>number_of_reviews_ltm</th>\n",
       "      <th>license;</th>\n",
       "    </tr>\n",
       "  </thead>\n",
       "  <tbody>\n",
       "    <tr>\n",
       "      <th>0</th>\n",
       "      <td>27966</td>\n",
       "      <td>Heraklion-Pinelopi Apartment</td>\n",
       "      <td>120502.0</td>\n",
       "      <td>Emmanouil</td>\n",
       "      <td>NaN</td>\n",
       "      <td>Μαλεβιζίου</td>\n",
       "      <td>35.33012</td>\n",
       "      <td>25.08012</td>\n",
       "      <td>Entire home/apt</td>\n",
       "      <td>45.0</td>\n",
       "      <td>2.0</td>\n",
       "      <td>128.0</td>\n",
       "      <td>2023-09-20</td>\n",
       "      <td>0.82</td>\n",
       "      <td>2.0</td>\n",
       "      <td>334.0</td>\n",
       "      <td>5.0</td>\n",
       "      <td>00000247117;</td>\n",
       "    </tr>\n",
       "    <tr>\n",
       "      <th>1</th>\n",
       "      <td>29130,\"Villa Kallergi - Athena, 12 guests\",125...</td>\n",
       "      <td>NaN</td>\n",
       "      <td>NaN</td>\n",
       "      <td>NaN</td>\n",
       "      <td>NaN</td>\n",
       "      <td>NaN</td>\n",
       "      <td>NaN</td>\n",
       "      <td>NaN</td>\n",
       "      <td>NaN</td>\n",
       "      <td>NaN</td>\n",
       "      <td>NaN</td>\n",
       "      <td>NaN</td>\n",
       "      <td>NaN</td>\n",
       "      <td>NaN</td>\n",
       "      <td>NaN</td>\n",
       "      <td>NaN</td>\n",
       "      <td>NaN</td>\n",
       "      <td>NaN</td>\n",
       "    </tr>\n",
       "    <tr>\n",
       "      <th>2</th>\n",
       "      <td>29849,\"Villa Kallergi - Nefeli, 6 guests\",1252...</td>\n",
       "      <td>NaN</td>\n",
       "      <td>NaN</td>\n",
       "      <td>NaN</td>\n",
       "      <td>NaN</td>\n",
       "      <td>NaN</td>\n",
       "      <td>NaN</td>\n",
       "      <td>NaN</td>\n",
       "      <td>NaN</td>\n",
       "      <td>NaN</td>\n",
       "      <td>NaN</td>\n",
       "      <td>NaN</td>\n",
       "      <td>NaN</td>\n",
       "      <td>NaN</td>\n",
       "      <td>NaN</td>\n",
       "      <td>NaN</td>\n",
       "      <td>NaN</td>\n",
       "      <td>NaN</td>\n",
       "    </tr>\n",
       "    <tr>\n",
       "      <th>3</th>\n",
       "      <td>29856</td>\n",
       "      <td>Matala Dimitris Villa - Four Bed Room</td>\n",
       "      <td>128653.0</td>\n",
       "      <td>Dimitris</td>\n",
       "      <td>NaN</td>\n",
       "      <td>Φαιστού</td>\n",
       "      <td>34.99533</td>\n",
       "      <td>24.75654</td>\n",
       "      <td>Private room</td>\n",
       "      <td>148.0</td>\n",
       "      <td>1.0</td>\n",
       "      <td>44.0</td>\n",
       "      <td>2023-09-20</td>\n",
       "      <td>0.26</td>\n",
       "      <td>4.0</td>\n",
       "      <td>33.0</td>\n",
       "      <td>1.0</td>\n",
       "      <td>00001193488;</td>\n",
       "    </tr>\n",
       "    <tr>\n",
       "      <th>4</th>\n",
       "      <td>31023</td>\n",
       "      <td>Chryssoula Guesthouse balcony (200mbps)</td>\n",
       "      <td>133208.0</td>\n",
       "      <td>Chryssoula</td>\n",
       "      <td>NaN</td>\n",
       "      <td>Χανίων</td>\n",
       "      <td>35.51439</td>\n",
       "      <td>24.01793</td>\n",
       "      <td>Entire home/apt</td>\n",
       "      <td>61.0</td>\n",
       "      <td>2.0</td>\n",
       "      <td>313.0</td>\n",
       "      <td>2024-06-23</td>\n",
       "      <td>2.15</td>\n",
       "      <td>4.0</td>\n",
       "      <td>204.0</td>\n",
       "      <td>12.0</td>\n",
       "      <td>1246760;</td>\n",
       "    </tr>\n",
       "  </tbody>\n",
       "</table>\n",
       "</div>"
      ],
      "text/plain": [
       "                                                  id  \\\n",
       "0                                              27966   \n",
       "1  29130,\"Villa Kallergi - Athena, 12 guests\",125...   \n",
       "2  29849,\"Villa Kallergi - Nefeli, 6 guests\",1252...   \n",
       "3                                              29856   \n",
       "4                                              31023   \n",
       "\n",
       "                                      name   host_id   host_name  \\\n",
       "0             Heraklion-Pinelopi Apartment  120502.0   Emmanouil   \n",
       "1                                      NaN       NaN         NaN   \n",
       "2                                      NaN       NaN         NaN   \n",
       "3    Matala Dimitris Villa - Four Bed Room  128653.0    Dimitris   \n",
       "4  Chryssoula Guesthouse balcony (200mbps)  133208.0  Chryssoula   \n",
       "\n",
       "   neighbourhood_group neighbourhood  latitude  longitude        room_type  \\\n",
       "0                  NaN    Μαλεβιζίου  35.33012   25.08012  Entire home/apt   \n",
       "1                  NaN           NaN       NaN        NaN              NaN   \n",
       "2                  NaN           NaN       NaN        NaN              NaN   \n",
       "3                  NaN       Φαιστού  34.99533   24.75654     Private room   \n",
       "4                  NaN        Χανίων  35.51439   24.01793  Entire home/apt   \n",
       "\n",
       "   price  minimum_nights  number_of_reviews last_review  reviews_per_month  \\\n",
       "0   45.0             2.0              128.0  2023-09-20               0.82   \n",
       "1    NaN             NaN                NaN         NaN                NaN   \n",
       "2    NaN             NaN                NaN         NaN                NaN   \n",
       "3  148.0             1.0               44.0  2023-09-20               0.26   \n",
       "4   61.0             2.0              313.0  2024-06-23               2.15   \n",
       "\n",
       "   calculated_host_listings_count  availability_365  number_of_reviews_ltm  \\\n",
       "0                             2.0             334.0                    5.0   \n",
       "1                             NaN               NaN                    NaN   \n",
       "2                             NaN               NaN                    NaN   \n",
       "3                             4.0              33.0                    1.0   \n",
       "4                             4.0             204.0                   12.0   \n",
       "\n",
       "       license;  \n",
       "0  00000247117;  \n",
       "1           NaN  \n",
       "2           NaN  \n",
       "3  00001193488;  \n",
       "4      1246760;  "
      ]
     },
     "execution_count": 2,
     "metadata": {},
     "output_type": "execute_result"
    }
   ],
   "source": [
    "\n",
    "# GitHub raw URL (important: replace %20 with spaces or use raw link)\n",
    "url = \"https://raw.githubusercontent.com/artem-ai-blip/Data-Analysis-3/main/Assignment%202/Crete,%202024,%20Q1.csv\"\n",
    "\n",
    "# Load the dataset\n",
    "crete_df = pd.read_csv(url)\n",
    "\n",
    "# Display basic info\n",
    "crete_df.info()\n",
    "crete_df.head()\n"
   ]
  },
  {
   "cell_type": "markdown",
   "id": "b0640056",
   "metadata": {},
   "source": [
    "neighbourhood_group has only nulls — we’ll likely drop this.\n",
    "\n",
    "price has ~2,695 missing values.\n",
    "\n",
    "last_review and reviews_per_month are missing for about 1/4 of the data — we can impute or engineer features from that.\n",
    "\n",
    "license; has a semicolon in its name — we should fix that column name."
   ]
  },
  {
   "cell_type": "code",
   "execution_count": 3,
   "id": "a1d0021f",
   "metadata": {
    "scrolled": true
   },
   "outputs": [
    {
     "name": "stdout",
     "output_type": "stream",
     "text": [
      "Missing values:\n",
      " name                              4169\n",
      "host_id                           4170\n",
      "host_name                         4170\n",
      "neighbourhood                     4170\n",
      "latitude                          4170\n",
      "longitude                         4170\n",
      "room_type                         4170\n",
      "price                             4695\n",
      "minimum_nights                    4170\n",
      "number_of_reviews                 4170\n",
      "last_review                       9871\n",
      "reviews_per_month                 9871\n",
      "calculated_host_listings_count    4170\n",
      "availability_365                  4170\n",
      "number_of_reviews_ltm             4170\n",
      "license                           4170\n",
      "dtype: int64\n"
     ]
    }
   ],
   "source": [
    "# Clean column names\n",
    "crete_df.columns = crete_df.columns.str.strip().str.replace(';', '', regex=False)\n",
    "\n",
    "# Drop columns with all missing values\n",
    "crete_df = crete_df.drop(columns=['neighbourhood_group'])\n",
    "\n",
    "# Check missing data\n",
    "missing = crete_df.isnull().sum()\n",
    "missing = missing[missing > 0]\n",
    "print(\"Missing values:\\n\", missing)\n",
    "\n",
    "# Basic imputation strategy\n",
    "crete_df['price'] = crete_df['price'].fillna(crete_df['price'].median())\n",
    "crete_df['reviews_per_month'] = crete_df['reviews_per_month'].fillna(0)\n",
    "crete_df['last_review'] = pd.to_datetime(crete_df['last_review'], errors='coerce')\n",
    "crete_df['last_review'] = crete_df['last_review'].fillna(pd.Timestamp('2023-01-01'))\n"
   ]
  },
  {
   "cell_type": "code",
   "execution_count": 4,
   "id": "fda849f8",
   "metadata": {},
   "outputs": [
    {
     "name": "stdout",
     "output_type": "stream",
     "text": [
      "<class 'pandas.core.frame.DataFrame'>\n",
      "Int64Index: 21602 entries, 0 to 25771\n",
      "Data columns (total 13 columns):\n",
      " #   Column                          Non-Null Count  Dtype         \n",
      "---  ------                          --------------  -----         \n",
      " 0   id                              21602 non-null  object        \n",
      " 1   neighbourhood                   21602 non-null  object        \n",
      " 2   latitude                        21602 non-null  float64       \n",
      " 3   longitude                       21602 non-null  float64       \n",
      " 4   room_type                       21602 non-null  object        \n",
      " 5   price                           21602 non-null  float64       \n",
      " 6   minimum_nights                  21602 non-null  float64       \n",
      " 7   number_of_reviews               21602 non-null  float64       \n",
      " 8   last_review                     21602 non-null  datetime64[ns]\n",
      " 9   reviews_per_month               21602 non-null  float64       \n",
      " 10  calculated_host_listings_count  21602 non-null  float64       \n",
      " 11  availability_365                21602 non-null  float64       \n",
      " 12  number_of_reviews_ltm           21602 non-null  float64       \n",
      "dtypes: datetime64[ns](1), float64(9), object(3)\n",
      "memory usage: 2.3+ MB\n"
     ]
    }
   ],
   "source": [
    "# Drop unnecessary columns\n",
    "crete_df = crete_df.drop(columns=['name', 'host_id', 'host_name', 'license'])\n",
    "\n",
    "# Drop rows with missing values in key columns\n",
    "crete_df = crete_df.dropna(subset=[\n",
    "    'neighbourhood', 'latitude', 'longitude', 'room_type',\n",
    "    'minimum_nights', 'number_of_reviews', 'calculated_host_listings_count',\n",
    "    'availability_365', 'number_of_reviews_ltm'\n",
    "])\n",
    "\n",
    "# Confirm cleanup\n",
    "crete_df.info()"
   ]
  },
  {
   "cell_type": "markdown",
   "id": "a011ef44",
   "metadata": {},
   "source": [
    "Amendments to the data \n",
    "\n",
    "1. Date-Based Features\n",
    "Extract year/month/day from last_review\n",
    "\n",
    "Create a \"days since last review\" feature\n",
    "\n",
    "2. Log-Transform Skewed Columns\n",
    "price, minimum_nights, number_of_reviews, reviews_per_month, etc.\n",
    "\n",
    "3. Categorical Encoding\n",
    "room_type → One-hot or ordinal encoding\n",
    "\n",
    "neighbourhood → One-hot (or frequency encoding if too many categories)\n",
    "\n",
    "4. Interaction Features (Optional)\n",
    "reviews_per_month * availability_365\n",
    "\n",
    "number_of_reviews_ltm / number_of_reviews"
   ]
  },
  {
   "cell_type": "code",
   "execution_count": 5,
   "id": "88ab8138",
   "metadata": {},
   "outputs": [
    {
     "name": "stdout",
     "output_type": "stream",
     "text": [
      "Final dataset shape: (21602, 42)\n"
     ]
    },
    {
     "data": {
      "text/html": [
       "<div>\n",
       "<style scoped>\n",
       "    .dataframe tbody tr th:only-of-type {\n",
       "        vertical-align: middle;\n",
       "    }\n",
       "\n",
       "    .dataframe tbody tr th {\n",
       "        vertical-align: top;\n",
       "    }\n",
       "\n",
       "    .dataframe thead th {\n",
       "        text-align: right;\n",
       "    }\n",
       "</style>\n",
       "<table border=\"1\" class=\"dataframe\">\n",
       "  <thead>\n",
       "    <tr style=\"text-align: right;\">\n",
       "      <th></th>\n",
       "      <th>id</th>\n",
       "      <th>latitude</th>\n",
       "      <th>longitude</th>\n",
       "      <th>price</th>\n",
       "      <th>minimum_nights</th>\n",
       "      <th>number_of_reviews</th>\n",
       "      <th>last_review</th>\n",
       "      <th>reviews_per_month</th>\n",
       "      <th>calculated_host_listings_count</th>\n",
       "      <th>availability_365</th>\n",
       "      <th>...</th>\n",
       "      <th>neighbourhood_Μινώα Πεδιάδας</th>\n",
       "      <th>neighbourhood_Μυλοποτάμου</th>\n",
       "      <th>neighbourhood_Οροπεδίου Λασιθίου</th>\n",
       "      <th>neighbourhood_Πλατανιά</th>\n",
       "      <th>neighbourhood_Ρεθύμνης</th>\n",
       "      <th>neighbourhood_Σητείας</th>\n",
       "      <th>neighbourhood_Σφακίων</th>\n",
       "      <th>neighbourhood_Φαιστού</th>\n",
       "      <th>neighbourhood_Χανίων</th>\n",
       "      <th>neighbourhood_Χερσονήσου</th>\n",
       "    </tr>\n",
       "  </thead>\n",
       "  <tbody>\n",
       "    <tr>\n",
       "      <th>0</th>\n",
       "      <td>27966</td>\n",
       "      <td>35.330120</td>\n",
       "      <td>25.080120</td>\n",
       "      <td>45.0</td>\n",
       "      <td>2.0</td>\n",
       "      <td>128.0</td>\n",
       "      <td>2023-09-20</td>\n",
       "      <td>0.82</td>\n",
       "      <td>2.0</td>\n",
       "      <td>334.0</td>\n",
       "      <td>...</td>\n",
       "      <td>0</td>\n",
       "      <td>0</td>\n",
       "      <td>0</td>\n",
       "      <td>0</td>\n",
       "      <td>0</td>\n",
       "      <td>0</td>\n",
       "      <td>0</td>\n",
       "      <td>0</td>\n",
       "      <td>0</td>\n",
       "      <td>0</td>\n",
       "    </tr>\n",
       "    <tr>\n",
       "      <th>3</th>\n",
       "      <td>29856</td>\n",
       "      <td>34.995330</td>\n",
       "      <td>24.756540</td>\n",
       "      <td>148.0</td>\n",
       "      <td>1.0</td>\n",
       "      <td>44.0</td>\n",
       "      <td>2023-09-20</td>\n",
       "      <td>0.26</td>\n",
       "      <td>4.0</td>\n",
       "      <td>33.0</td>\n",
       "      <td>...</td>\n",
       "      <td>0</td>\n",
       "      <td>0</td>\n",
       "      <td>0</td>\n",
       "      <td>0</td>\n",
       "      <td>0</td>\n",
       "      <td>0</td>\n",
       "      <td>0</td>\n",
       "      <td>1</td>\n",
       "      <td>0</td>\n",
       "      <td>0</td>\n",
       "    </tr>\n",
       "    <tr>\n",
       "      <th>4</th>\n",
       "      <td>31023</td>\n",
       "      <td>35.514390</td>\n",
       "      <td>24.017930</td>\n",
       "      <td>61.0</td>\n",
       "      <td>2.0</td>\n",
       "      <td>313.0</td>\n",
       "      <td>2024-06-23</td>\n",
       "      <td>2.15</td>\n",
       "      <td>4.0</td>\n",
       "      <td>204.0</td>\n",
       "      <td>...</td>\n",
       "      <td>0</td>\n",
       "      <td>0</td>\n",
       "      <td>0</td>\n",
       "      <td>0</td>\n",
       "      <td>0</td>\n",
       "      <td>0</td>\n",
       "      <td>0</td>\n",
       "      <td>0</td>\n",
       "      <td>1</td>\n",
       "      <td>0</td>\n",
       "    </tr>\n",
       "    <tr>\n",
       "      <th>5</th>\n",
       "      <td>31789</td>\n",
       "      <td>35.496480</td>\n",
       "      <td>23.696480</td>\n",
       "      <td>200.0</td>\n",
       "      <td>3.0</td>\n",
       "      <td>2.0</td>\n",
       "      <td>2012-09-23</td>\n",
       "      <td>0.01</td>\n",
       "      <td>1.0</td>\n",
       "      <td>365.0</td>\n",
       "      <td>...</td>\n",
       "      <td>0</td>\n",
       "      <td>0</td>\n",
       "      <td>0</td>\n",
       "      <td>0</td>\n",
       "      <td>0</td>\n",
       "      <td>0</td>\n",
       "      <td>0</td>\n",
       "      <td>0</td>\n",
       "      <td>0</td>\n",
       "      <td>0</td>\n",
       "    </tr>\n",
       "    <tr>\n",
       "      <th>6</th>\n",
       "      <td>34280</td>\n",
       "      <td>35.396159</td>\n",
       "      <td>25.025414</td>\n",
       "      <td>85.0</td>\n",
       "      <td>2.0</td>\n",
       "      <td>131.0</td>\n",
       "      <td>2023-09-27</td>\n",
       "      <td>0.97</td>\n",
       "      <td>11.0</td>\n",
       "      <td>31.0</td>\n",
       "      <td>...</td>\n",
       "      <td>0</td>\n",
       "      <td>0</td>\n",
       "      <td>0</td>\n",
       "      <td>0</td>\n",
       "      <td>0</td>\n",
       "      <td>0</td>\n",
       "      <td>0</td>\n",
       "      <td>0</td>\n",
       "      <td>0</td>\n",
       "      <td>0</td>\n",
       "    </tr>\n",
       "  </tbody>\n",
       "</table>\n",
       "<p>5 rows × 42 columns</p>\n",
       "</div>"
      ],
      "text/plain": [
       "      id   latitude  longitude  price  minimum_nights  number_of_reviews  \\\n",
       "0  27966  35.330120  25.080120   45.0             2.0              128.0   \n",
       "3  29856  34.995330  24.756540  148.0             1.0               44.0   \n",
       "4  31023  35.514390  24.017930   61.0             2.0              313.0   \n",
       "5  31789  35.496480  23.696480  200.0             3.0                2.0   \n",
       "6  34280  35.396159  25.025414   85.0             2.0              131.0   \n",
       "\n",
       "  last_review  reviews_per_month  calculated_host_listings_count  \\\n",
       "0  2023-09-20               0.82                             2.0   \n",
       "3  2023-09-20               0.26                             4.0   \n",
       "4  2024-06-23               2.15                             4.0   \n",
       "5  2012-09-23               0.01                             1.0   \n",
       "6  2023-09-27               0.97                            11.0   \n",
       "\n",
       "   availability_365  ...  neighbourhood_Μινώα Πεδιάδας  \\\n",
       "0             334.0  ...                             0   \n",
       "3              33.0  ...                             0   \n",
       "4             204.0  ...                             0   \n",
       "5             365.0  ...                             0   \n",
       "6              31.0  ...                             0   \n",
       "\n",
       "   neighbourhood_Μυλοποτάμου  neighbourhood_Οροπεδίου Λασιθίου  \\\n",
       "0                          0                                 0   \n",
       "3                          0                                 0   \n",
       "4                          0                                 0   \n",
       "5                          0                                 0   \n",
       "6                          0                                 0   \n",
       "\n",
       "   neighbourhood_Πλατανιά  neighbourhood_Ρεθύμνης  neighbourhood_Σητείας  \\\n",
       "0                       0                       0                      0   \n",
       "3                       0                       0                      0   \n",
       "4                       0                       0                      0   \n",
       "5                       0                       0                      0   \n",
       "6                       0                       0                      0   \n",
       "\n",
       "   neighbourhood_Σφακίων  neighbourhood_Φαιστού  neighbourhood_Χανίων  \\\n",
       "0                      0                      0                     0   \n",
       "3                      0                      1                     0   \n",
       "4                      0                      0                     1   \n",
       "5                      0                      0                     0   \n",
       "6                      0                      0                     0   \n",
       "\n",
       "   neighbourhood_Χερσονήσου  \n",
       "0                         0  \n",
       "3                         0  \n",
       "4                         0  \n",
       "5                         0  \n",
       "6                         0  \n",
       "\n",
       "[5 rows x 42 columns]"
      ]
     },
     "execution_count": 5,
     "metadata": {},
     "output_type": "execute_result"
    }
   ],
   "source": [
    "# 1. Date-based feature\n",
    "crete_df['days_since_last_review'] = (pd.Timestamp('2024-01-01') - crete_df['last_review']).dt.days\n",
    "\n",
    "# 2. Log-transform skewed variables\n",
    "for col in ['price', 'minimum_nights', 'number_of_reviews', 'reviews_per_month']:\n",
    "    crete_df[f'log_{col}'] = np.log1p(crete_df[col])\n",
    "\n",
    "# 3. One-hot encode categorical variables\n",
    "crete_df = pd.get_dummies(crete_df, columns=['room_type', 'neighbourhood'], drop_first=True)\n",
    "\n",
    "# Final shape check\n",
    "print(f\"Final dataset shape: {crete_df.shape}\")\n",
    "crete_df.head()\n"
   ]
  },
  {
   "cell_type": "markdown",
   "id": "d140f855",
   "metadata": {},
   "source": [
    "To build a pricing model for Airbnb listings in Crete, our goal is to accurately predict nightly prices based on listing features. This model supports dynamic pricing strategies and helps optimize revenue. Our first step was variable selection, where we retained features that signal value or influence pricing behavior. Geographic coordinates (latitude, longitude) were included due to the importance of location in determining price, especially proximity to tourist hotspots. Room type and neighbourhood were kept as categorical indicators of accommodation style and socio-geographic pricing patterns. We included minimum_nights as it hints at the stay duration and value proposition. Popularity-related metrics like number_of_reviews, reviews_per_month, and number_of_reviews_ltm act as social proof, while last_review was transformed into a more interpretable metric — days_since_last_review. calculated_host_listings_count helps differentiate between professional and casual hosts, and availability_365 may indicate listing strategy. The target variable is, of course, price. Irrelevant or non-predictive columns like id, name, host_id, host_name, and license were dropped due to their administrative nature.\n",
    "\n",
    " To address skewed distributions, we applied log transformations to variables such as price, minimum_nights, and number_of_reviews, enabling better learning for models like OLS or LASSO. Categorical variables like room_type and neighbourhood were one-hot encoded, allowing machine learning algorithms to interpret them correctly. We were mindful of overfitting risks, opting for drop_first=True in one-hot encoding and excluding non-informative identifiers.\n",
    "\n",
    "In summary, our design choices focused on features related to location, quality, popularity, and availability. Through thoughtful transformation and selection, we ensured interpretability, minimized skew, and improved model robustness — laying a solid foundation for dynamic, data-driven Airbnb pricing."
   ]
  },
  {
   "cell_type": "markdown",
   "id": "3f992c5f",
   "metadata": {},
   "source": [
    "## Modelling"
   ]
  },
  {
   "cell_type": "markdown",
   "id": "74978143",
   "metadata": {},
   "source": [
    "Before training a machine learning model, it's important to inspect the shape of the input data using .shape. For instance, X_train.shape might return (17,484, 64), indicating 17,484 samples and 64 features in the training set. Similarly, X_test.shape returning (4,372, 64) confirms that the test set includes the same number of features. While not strictly required for the model to function, checking shapes serves as a valuable sanity check — it ensures the train-test split was performed correctly and that the datasets are not empty or imbalanced. "
   ]
  },
  {
   "cell_type": "code",
   "execution_count": 6,
   "id": "077a5cc0",
   "metadata": {},
   "outputs": [
    {
     "name": "stdout",
     "output_type": "stream",
     "text": [
      "Train shape: (17281, 38), Test shape: (4321, 38)\n"
     ]
    }
   ],
   "source": [
    "from sklearn.model_selection import train_test_split\n",
    "\n",
    "# Drop columns we don’t want in features\n",
    "drop_cols = ['id', 'last_review', 'price', 'log_price']\n",
    "X = crete_df.drop(columns=drop_cols)\n",
    "y = crete_df['price']\n",
    "\n",
    "# Train-test split\n",
    "X_train, X_test, y_train, y_test = train_test_split(X, y, test_size=0.2, random_state=42)\n",
    "\n",
    "print(f\"Train shape: {X_train.shape}, Test shape: {X_test.shape}\")\n"
   ]
  },
  {
   "cell_type": "code",
   "execution_count": 7,
   "id": "a165be1c",
   "metadata": {},
   "outputs": [
    {
     "name": "stdout",
     "output_type": "stream",
     "text": [
      "OLS R²: 0.0788\n",
      "OLS RMSE: 477.53\n"
     ]
    }
   ],
   "source": [
    "from sklearn.linear_model import LinearRegression\n",
    "from sklearn.metrics import mean_squared_error, r2_score\n",
    "import numpy as np\n",
    "\n",
    "# Initialize and fit OLS model\n",
    "ols_model = LinearRegression()\n",
    "ols_model.fit(X_train, y_train)\n",
    "\n",
    "# Predict\n",
    "y_pred_ols = ols_model.predict(X_test)\n",
    "\n",
    "# Evaluate\n",
    "r2_ols = r2_score(y_test, y_pred_ols)\n",
    "rmse_ols = np.sqrt(mean_squared_error(y_test, y_pred_ols))\n",
    "\n",
    "print(f\"OLS R²: {r2_ols:.4f}\")\n",
    "print(f\"OLS RMSE: {rmse_ols:.2f}\")\n"
   ]
  },
  {
   "cell_type": "markdown",
   "id": "89584f33",
   "metadata": {},
   "source": [
    "Training on the entire dataset would result in a perfect-fit model with no opportunity to assess its ability to generalize to new or unseen data. The train-test split is essential because it mirrors real-world deployment: the model is trained on known data, and predictions are made on new data (the test set) to evaluate performance. This approach helps prevent overfitting, where a model learns the training data too well and fails to perform effectively on unfamiliar inputs. Modeling flow involves training OLS on X_train and y_train, generating predictions on X_test, and then evaluating the results using metrics such as R² and RMSE. \n",
    "\n"
   ]
  },
  {
   "cell_type": "code",
   "execution_count": 8,
   "id": "98b9bb0a",
   "metadata": {},
   "outputs": [
    {
     "name": "stdout",
     "output_type": "stream",
     "text": [
      "LASSO R²: 0.0785\n",
      "LASSO RMSE: 477.59\n",
      "Best alpha: 0.029470517025518096\n"
     ]
    }
   ],
   "source": [
    "from sklearn.linear_model import Lasso\n",
    "from sklearn.model_selection import GridSearchCV\n",
    "from sklearn.metrics import mean_squared_error, r2_score\n",
    "import numpy as np\n",
    "\n",
    "# We'll use GridSearchCV to find the best alpha (regularization strength)\n",
    "alphas = np.logspace(-3, 1, 50)\n",
    "lasso = Lasso(max_iter=10000)\n",
    "\n",
    "param_grid = {'alpha': alphas}\n",
    "grid_lasso = GridSearchCV(lasso, param_grid, cv=5, scoring='neg_root_mean_squared_error')\n",
    "grid_lasso.fit(X_train, y_train)\n",
    "\n",
    "# Best model\n",
    "best_lasso = grid_lasso.best_estimator_\n",
    "y_pred_lasso = best_lasso.predict(X_test)\n",
    "\n",
    "# Evaluate\n",
    "r2_lasso = r2_score(y_test, y_pred_lasso)\n",
    "rmse_lasso = np.sqrt(mean_squared_error(y_test, y_pred_lasso))\n",
    "\n",
    "print(f\"LASSO R²: {r2_lasso:.4f}\")\n",
    "print(f\"LASSO RMSE: {rmse_lasso:.2f}\")\n",
    "print(f\"Best alpha: {grid_lasso.best_params_['alpha']}\")\n"
   ]
  },
  {
   "cell_type": "code",
   "execution_count": 9,
   "id": "828179de",
   "metadata": {},
   "outputs": [
    {
     "name": "stdout",
     "output_type": "stream",
     "text": [
      "Non-zero coefficients: 36 / 38\n"
     ]
    }
   ],
   "source": [
    "lasso_coef = pd.Series(best_lasso.coef_, index=X.columns)\n",
    "print(f\"Non-zero coefficients: {(lasso_coef != 0).sum()} / {len(lasso_coef)}\")\n"
   ]
  },
  {
   "cell_type": "markdown",
   "id": "52fa93aa",
   "metadata": {},
   "source": [
    "LASSO "
   ]
  },
  {
   "cell_type": "markdown",
   "id": "08bc8b0e",
   "metadata": {},
   "source": [
    "### Random Forest "
   ]
  },
  {
   "cell_type": "code",
   "execution_count": 10,
   "id": "ed49277a",
   "metadata": {},
   "outputs": [
    {
     "name": "stdout",
     "output_type": "stream",
     "text": [
      "Random Forest R²: 0.6074\n",
      "Random Forest RMSE: 311.73\n"
     ]
    }
   ],
   "source": [
    "from sklearn.ensemble import RandomForestRegressor\n",
    "\n",
    "# Initialize and fit model\n",
    "rf_model = RandomForestRegressor(\n",
    "    n_estimators=100,\n",
    "    max_depth=None,\n",
    "    random_state=42,\n",
    "    n_jobs=-1\n",
    ")\n",
    "\n",
    "rf_model.fit(X_train, y_train)\n",
    "\n",
    "# Predict\n",
    "y_pred_rf = rf_model.predict(X_test)\n",
    "\n",
    "# Evaluate\n",
    "r2_rf = r2_score(y_test, y_pred_rf)\n",
    "rmse_rf = np.sqrt(mean_squared_error(y_test, y_pred_rf))\n",
    "\n",
    "print(f\"Random Forest R²: {r2_rf:.4f}\")\n",
    "print(f\"Random Forest RMSE: {rmse_rf:.2f}\")\n"
   ]
  },
  {
   "cell_type": "code",
   "execution_count": 11,
   "id": "9d6434e5",
   "metadata": {},
   "outputs": [
    {
     "name": "stdout",
     "output_type": "stream",
     "text": [
      "longitude                         0.208912\n",
      "latitude                          0.162713\n",
      "availability_365                  0.143565\n",
      "calculated_host_listings_count    0.143203\n",
      "neighbourhood_Αποκορώνου          0.087578\n",
      "log_minimum_nights                0.035856\n",
      "minimum_nights                    0.032907\n",
      "days_since_last_review            0.026853\n",
      "neighbourhood_Αγίου Νικολάου      0.022565\n",
      "log_reviews_per_month             0.018182\n",
      "dtype: float64\n"
     ]
    }
   ],
   "source": [
    "importances = pd.Series(rf_model.feature_importances_, index=X.columns)\n",
    "importances = importances.sort_values(ascending=False)\n",
    "print(importances.head(10))\n"
   ]
  },
  {
   "cell_type": "markdown",
   "id": "9e23eff1",
   "metadata": {},
   "source": [
    "### Boosting "
   ]
  },
  {
   "cell_type": "code",
   "execution_count": 12,
   "id": "da5ea72f",
   "metadata": {},
   "outputs": [
    {
     "name": "stdout",
     "output_type": "stream",
     "text": [
      "XGBoost R²: 0.5930\n",
      "XGBoost RMSE: 317.41\n"
     ]
    }
   ],
   "source": [
    "from xgboost import XGBRegressor\n",
    "from sklearn.metrics import mean_squared_error, r2_score\n",
    "\n",
    "# Initialize and fit model\n",
    "xgb_model = XGBRegressor(\n",
    "    n_estimators=100,\n",
    "    learning_rate=0.1,\n",
    "    max_depth=6,\n",
    "    subsample=0.8,\n",
    "    colsample_bytree=0.8,\n",
    "    random_state=42\n",
    ")\n",
    "\n",
    "xgb_model.fit(X_train, y_train)\n",
    "\n",
    "# Predict\n",
    "y_pred_xgb = xgb_model.predict(X_test)\n",
    "\n",
    "# Evaluate\n",
    "r2_xgb = r2_score(y_test, y_pred_xgb)\n",
    "rmse_xgb = np.sqrt(mean_squared_error(y_test, y_pred_xgb))\n",
    "\n",
    "print(f\"XGBoost R²: {r2_xgb:.4f}\")\n",
    "print(f\"XGBoost RMSE: {rmse_xgb:.2f}\")\n"
   ]
  },
  {
   "cell_type": "code",
   "execution_count": null,
   "id": "3252ca27",
   "metadata": {},
   "outputs": [],
   "source": []
  },
  {
   "cell_type": "code",
   "execution_count": 13,
   "id": "11671e75",
   "metadata": {},
   "outputs": [
    {
     "name": "stdout",
     "output_type": "stream",
     "text": [
      "[LightGBM] [Warning] Found whitespace in feature_names, replace with underlines\n",
      "[LightGBM] [Info] Auto-choosing col-wise multi-threading, the overhead of testing was 0.000365 seconds.\n",
      "You can set `force_col_wise=true` to remove the overhead.\n",
      "[LightGBM] [Info] Total Bins 2234\n",
      "[LightGBM] [Info] Number of data points in the train set: 17281, number of used features: 36\n",
      "[LightGBM] [Info] Start training from score 204.000174\n",
      "[LightGBM] [Warning] No further splits with positive gain, best gain: -inf\n",
      "[LightGBM] [Warning] No further splits with positive gain, best gain: -inf\n",
      "[LightGBM] [Warning] No further splits with positive gain, best gain: -inf\n",
      "[LightGBM] [Warning] No further splits with positive gain, best gain: -inf\n",
      "[LightGBM] [Warning] No further splits with positive gain, best gain: -inf\n",
      "[LightGBM] [Warning] No further splits with positive gain, best gain: -inf\n",
      "[LightGBM] [Warning] No further splits with positive gain, best gain: -inf\n",
      "[LightGBM] [Warning] No further splits with positive gain, best gain: -inf\n",
      "[LightGBM] [Warning] No further splits with positive gain, best gain: -inf\n",
      "[LightGBM] [Warning] No further splits with positive gain, best gain: -inf\n",
      "[LightGBM] [Warning] No further splits with positive gain, best gain: -inf\n",
      "[LightGBM] [Warning] No further splits with positive gain, best gain: -inf\n",
      "[LightGBM] [Warning] No further splits with positive gain, best gain: -inf\n",
      "[LightGBM] [Warning] No further splits with positive gain, best gain: -inf\n",
      "[LightGBM] [Warning] No further splits with positive gain, best gain: -inf\n",
      "[LightGBM] [Warning] No further splits with positive gain, best gain: -inf\n",
      "[LightGBM] [Warning] No further splits with positive gain, best gain: -inf\n",
      "[LightGBM] [Warning] No further splits with positive gain, best gain: -inf\n",
      "[LightGBM] [Warning] No further splits with positive gain, best gain: -inf\n",
      "[LightGBM] [Warning] No further splits with positive gain, best gain: -inf\n",
      "[LightGBM] [Warning] No further splits with positive gain, best gain: -inf\n",
      "[LightGBM] [Warning] No further splits with positive gain, best gain: -inf\n",
      "[LightGBM] [Warning] No further splits with positive gain, best gain: -inf\n",
      "[LightGBM] [Warning] No further splits with positive gain, best gain: -inf\n",
      "[LightGBM] [Warning] No further splits with positive gain, best gain: -inf\n",
      "[LightGBM] [Warning] No further splits with positive gain, best gain: -inf\n",
      "[LightGBM] [Warning] No further splits with positive gain, best gain: -inf\n",
      "[LightGBM] [Warning] No further splits with positive gain, best gain: -inf\n",
      "[LightGBM] [Warning] No further splits with positive gain, best gain: -inf\n",
      "[LightGBM] [Warning] No further splits with positive gain, best gain: -inf\n",
      "[LightGBM] [Warning] No further splits with positive gain, best gain: -inf\n",
      "[LightGBM] [Warning] No further splits with positive gain, best gain: -inf\n",
      "[LightGBM] [Warning] No further splits with positive gain, best gain: -inf\n",
      "[LightGBM] [Warning] No further splits with positive gain, best gain: -inf\n",
      "[LightGBM] [Warning] No further splits with positive gain, best gain: -inf\n",
      "[LightGBM] [Warning] No further splits with positive gain, best gain: -inf\n",
      "[LightGBM] [Warning] No further splits with positive gain, best gain: -inf\n",
      "[LightGBM] [Warning] No further splits with positive gain, best gain: -inf\n",
      "[LightGBM] [Warning] No further splits with positive gain, best gain: -inf\n",
      "[LightGBM] [Warning] No further splits with positive gain, best gain: -inf\n",
      "[LightGBM] [Warning] No further splits with positive gain, best gain: -inf\n",
      "[LightGBM] [Warning] No further splits with positive gain, best gain: -inf\n",
      "[LightGBM] [Warning] No further splits with positive gain, best gain: -inf\n",
      "[LightGBM] [Warning] No further splits with positive gain, best gain: -inf\n",
      "[LightGBM] [Warning] No further splits with positive gain, best gain: -inf\n",
      "[LightGBM] [Warning] No further splits with positive gain, best gain: -inf\n",
      "[LightGBM] [Warning] No further splits with positive gain, best gain: -inf\n",
      "[LightGBM] [Warning] No further splits with positive gain, best gain: -inf\n",
      "[LightGBM] [Warning] No further splits with positive gain, best gain: -inf\n",
      "[LightGBM] [Warning] No further splits with positive gain, best gain: -inf\n",
      "[LightGBM] [Warning] No further splits with positive gain, best gain: -inf\n",
      "[LightGBM] [Warning] No further splits with positive gain, best gain: -inf\n",
      "[LightGBM] [Warning] No further splits with positive gain, best gain: -inf\n",
      "[LightGBM] [Warning] No further splits with positive gain, best gain: -inf\n",
      "[LightGBM] [Warning] No further splits with positive gain, best gain: -inf\n",
      "[LightGBM] [Warning] No further splits with positive gain, best gain: -inf\n",
      "[LightGBM] [Warning] No further splits with positive gain, best gain: -inf\n",
      "[LightGBM] [Warning] No further splits with positive gain, best gain: -inf\n",
      "LightGBM R²: 0.3961\n",
      "LightGBM RMSE: 386.62\n"
     ]
    }
   ],
   "source": [
    "from lightgbm import LGBMRegressor\n",
    "from sklearn.metrics import mean_squared_error, r2_score\n",
    "\n",
    "# Initialize the model\n",
    "lgbm_model = LGBMRegressor(\n",
    "    n_estimators=100,\n",
    "    learning_rate=0.1,\n",
    "    max_depth=6,\n",
    "    subsample=0.8,\n",
    "    colsample_bytree=0.8,\n",
    "    random_state=42\n",
    ")\n",
    "\n",
    "# Fit the model\n",
    "lgbm_model.fit(X_train, y_train)\n",
    "\n",
    "# Predict\n",
    "y_pred_lgbm = lgbm_model.predict(X_test)\n",
    "\n",
    "# Evaluate\n",
    "r2_lgbm = r2_score(y_test, y_pred_lgbm)\n",
    "rmse_lgbm = np.sqrt(mean_squared_error(y_test, y_pred_lgbm))\n",
    "\n",
    "print(f\"LightGBM R²: {r2_lgbm:.4f}\")\n",
    "print(f\"LightGBM RMSE: {rmse_lgbm:.2f}\")\n"
   ]
  },
  {
   "cell_type": "markdown",
   "id": "18fe9782",
   "metadata": {},
   "source": [
    "## Model Comparison "
   ]
  },
  {
   "cell_type": "code",
   "execution_count": 15,
   "id": "920100db",
   "metadata": {},
   "outputs": [
    {
     "name": "stdout",
     "output_type": "stream",
     "text": [
      "[LightGBM] [Warning] Found whitespace in feature_names, replace with underlines\n",
      "[LightGBM] [Info] Auto-choosing col-wise multi-threading, the overhead of testing was 0.000562 seconds.\n",
      "You can set `force_col_wise=true` to remove the overhead.\n",
      "[LightGBM] [Info] Total Bins 2234\n",
      "[LightGBM] [Info] Number of data points in the train set: 17281, number of used features: 36\n",
      "[LightGBM] [Info] Start training from score 204.000174\n",
      "[LightGBM] [Warning] No further splits with positive gain, best gain: -inf\n",
      "[LightGBM] [Warning] No further splits with positive gain, best gain: -inf\n",
      "[LightGBM] [Warning] No further splits with positive gain, best gain: -inf\n",
      "[LightGBM] [Warning] No further splits with positive gain, best gain: -inf\n",
      "[LightGBM] [Warning] No further splits with positive gain, best gain: -inf\n",
      "[LightGBM] [Warning] No further splits with positive gain, best gain: -inf\n",
      "[LightGBM] [Warning] No further splits with positive gain, best gain: -inf\n",
      "[LightGBM] [Warning] No further splits with positive gain, best gain: -inf\n",
      "[LightGBM] [Warning] No further splits with positive gain, best gain: -inf\n",
      "[LightGBM] [Warning] No further splits with positive gain, best gain: -inf\n",
      "[LightGBM] [Warning] No further splits with positive gain, best gain: -inf\n",
      "[LightGBM] [Warning] No further splits with positive gain, best gain: -inf\n",
      "[LightGBM] [Warning] No further splits with positive gain, best gain: -inf\n",
      "[LightGBM] [Warning] No further splits with positive gain, best gain: -inf\n",
      "[LightGBM] [Warning] No further splits with positive gain, best gain: -inf\n",
      "[LightGBM] [Warning] No further splits with positive gain, best gain: -inf\n",
      "[LightGBM] [Warning] No further splits with positive gain, best gain: -inf\n",
      "[LightGBM] [Warning] No further splits with positive gain, best gain: -inf\n",
      "[LightGBM] [Warning] No further splits with positive gain, best gain: -inf\n",
      "[LightGBM] [Warning] No further splits with positive gain, best gain: -inf\n",
      "[LightGBM] [Warning] No further splits with positive gain, best gain: -inf\n",
      "[LightGBM] [Warning] No further splits with positive gain, best gain: -inf\n",
      "[LightGBM] [Warning] No further splits with positive gain, best gain: -inf\n",
      "[LightGBM] [Warning] No further splits with positive gain, best gain: -inf\n",
      "[LightGBM] [Warning] No further splits with positive gain, best gain: -inf\n",
      "[LightGBM] [Warning] No further splits with positive gain, best gain: -inf\n",
      "[LightGBM] [Warning] No further splits with positive gain, best gain: -inf\n",
      "[LightGBM] [Warning] No further splits with positive gain, best gain: -inf\n",
      "[LightGBM] [Warning] No further splits with positive gain, best gain: -inf\n",
      "[LightGBM] [Warning] No further splits with positive gain, best gain: -inf\n",
      "[LightGBM] [Warning] No further splits with positive gain, best gain: -inf\n",
      "[LightGBM] [Warning] No further splits with positive gain, best gain: -inf\n",
      "[LightGBM] [Warning] No further splits with positive gain, best gain: -inf\n",
      "[LightGBM] [Warning] No further splits with positive gain, best gain: -inf\n",
      "[LightGBM] [Warning] No further splits with positive gain, best gain: -inf\n",
      "[LightGBM] [Warning] No further splits with positive gain, best gain: -inf\n",
      "[LightGBM] [Warning] No further splits with positive gain, best gain: -inf\n",
      "[LightGBM] [Warning] No further splits with positive gain, best gain: -inf\n",
      "[LightGBM] [Warning] No further splits with positive gain, best gain: -inf\n",
      "[LightGBM] [Warning] No further splits with positive gain, best gain: -inf\n",
      "[LightGBM] [Warning] No further splits with positive gain, best gain: -inf\n",
      "[LightGBM] [Warning] No further splits with positive gain, best gain: -inf\n",
      "[LightGBM] [Warning] No further splits with positive gain, best gain: -inf\n",
      "[LightGBM] [Warning] No further splits with positive gain, best gain: -inf\n",
      "[LightGBM] [Warning] No further splits with positive gain, best gain: -inf\n",
      "[LightGBM] [Warning] No further splits with positive gain, best gain: -inf\n",
      "[LightGBM] [Warning] No further splits with positive gain, best gain: -inf\n",
      "[LightGBM] [Warning] No further splits with positive gain, best gain: -inf\n",
      "[LightGBM] [Warning] No further splits with positive gain, best gain: -inf\n",
      "[LightGBM] [Warning] No further splits with positive gain, best gain: -inf\n",
      "[LightGBM] [Warning] No further splits with positive gain, best gain: -inf\n",
      "[LightGBM] [Warning] No further splits with positive gain, best gain: -inf\n",
      "[LightGBM] [Warning] No further splits with positive gain, best gain: -inf\n",
      "[LightGBM] [Warning] No further splits with positive gain, best gain: -inf\n",
      "[LightGBM] [Warning] No further splits with positive gain, best gain: -inf\n",
      "[LightGBM] [Warning] No further splits with positive gain, best gain: -inf\n",
      "           Model      R²  RMSE (€)  Train Time (s)\n",
      "2  Random Forest  0.6074    311.73          4.2022\n",
      "3        XGBoost  0.5929    317.45          0.1409\n",
      "4       LightGBM  0.4381    372.93          0.0617\n",
      "0            OLS  0.0788    477.53          0.0186\n",
      "1          LASSO  0.0785    477.59          0.0642\n"
     ]
    }
   ],
   "source": [
    "# Define models and labels\n",
    "models = {\n",
    "    \"OLS\": LinearRegression(),\n",
    "    \"LASSO\": Lasso(alpha=0.03, max_iter=10000),\n",
    "    \"Random Forest\": RandomForestRegressor(n_estimators=100, random_state=42, n_jobs=-1),\n",
    "    \"XGBoost\": XGBRegressor(n_estimators=100, learning_rate=0.1, max_depth=6, random_state=42),\n",
    "    \"LightGBM\": LGBMRegressor(n_estimators=100, learning_rate=0.1, max_depth=6, random_state=42)\n",
    "}\n",
    "\n",
    "results = []\n",
    "\n",
    "# Evaluate each model\n",
    "for name, model in models.items():\n",
    "    start = time.time()\n",
    "    model.fit(X_train, y_train)\n",
    "    end = time.time()\n",
    "    \n",
    "    y_pred = model.predict(X_test)\n",
    "    r2 = r2_score(y_test, y_pred)\n",
    "    rmse = mean_squared_error(y_test, y_pred, squared=False)\n",
    "    runtime = end - start\n",
    "\n",
    "    results.append({\n",
    "        \"Model\": name,\n",
    "        \"R²\": round(r2, 4),\n",
    "        \"RMSE (€)\": round(rmse, 2),\n",
    "        \"Train Time (s)\": round(runtime, 4)\n",
    "    })\n",
    "\n",
    "# Create table\n",
    "results_df = pd.DataFrame(results)\n",
    "results_df.sort_values(by=\"R²\", ascending=False, inplace=True)\n",
    "print(results_df)"
   ]
  },
  {
   "cell_type": "code",
   "execution_count": 20,
   "id": "1fb9e777",
   "metadata": {},
   "outputs": [
    {
     "data": {
      "application/vnd.plotly.v1+json": {
       "config": {
        "plotlyServerURL": "https://plot.ly"
       },
       "data": [
        {
         "cells": {
          "align": "center",
          "fill": {
           "color": "#F7FAFC"
          },
          "font": {
           "color": "black",
           "size": 13
          },
          "height": 28,
          "values": [
           [
            "Random Forest",
            "XGBoost",
            "LightGBM",
            "OLS",
            "LASSO"
           ],
           [
            0.6074,
            0.5929,
            0.4381,
            0.0788,
            0.0785
           ],
           [
            311.73,
            317.45,
            372.93,
            477.53,
            477.59
           ],
           [
            4.2022,
            0.1409,
            0.0617,
            0.0186,
            0.0642
           ]
          ]
         },
         "header": {
          "align": "center",
          "fill": {
           "color": "#2D3748"
          },
          "font": {
           "color": "white",
           "size": 14
          },
          "height": 30,
          "values": [
           "Model",
           "R²",
           "RMSE (€)",
           "Train Time (s)"
          ]
         },
         "type": "table"
        }
       ],
       "layout": {
        "height": 350,
        "template": {
         "data": {
          "bar": [
           {
            "error_x": {
             "color": "#2a3f5f"
            },
            "error_y": {
             "color": "#2a3f5f"
            },
            "marker": {
             "line": {
              "color": "#E5ECF6",
              "width": 0.5
             },
             "pattern": {
              "fillmode": "overlay",
              "size": 10,
              "solidity": 0.2
             }
            },
            "type": "bar"
           }
          ],
          "barpolar": [
           {
            "marker": {
             "line": {
              "color": "#E5ECF6",
              "width": 0.5
             },
             "pattern": {
              "fillmode": "overlay",
              "size": 10,
              "solidity": 0.2
             }
            },
            "type": "barpolar"
           }
          ],
          "carpet": [
           {
            "aaxis": {
             "endlinecolor": "#2a3f5f",
             "gridcolor": "white",
             "linecolor": "white",
             "minorgridcolor": "white",
             "startlinecolor": "#2a3f5f"
            },
            "baxis": {
             "endlinecolor": "#2a3f5f",
             "gridcolor": "white",
             "linecolor": "white",
             "minorgridcolor": "white",
             "startlinecolor": "#2a3f5f"
            },
            "type": "carpet"
           }
          ],
          "choropleth": [
           {
            "colorbar": {
             "outlinewidth": 0,
             "ticks": ""
            },
            "type": "choropleth"
           }
          ],
          "contour": [
           {
            "colorbar": {
             "outlinewidth": 0,
             "ticks": ""
            },
            "colorscale": [
             [
              0,
              "#0d0887"
             ],
             [
              0.1111111111111111,
              "#46039f"
             ],
             [
              0.2222222222222222,
              "#7201a8"
             ],
             [
              0.3333333333333333,
              "#9c179e"
             ],
             [
              0.4444444444444444,
              "#bd3786"
             ],
             [
              0.5555555555555556,
              "#d8576b"
             ],
             [
              0.6666666666666666,
              "#ed7953"
             ],
             [
              0.7777777777777778,
              "#fb9f3a"
             ],
             [
              0.8888888888888888,
              "#fdca26"
             ],
             [
              1,
              "#f0f921"
             ]
            ],
            "type": "contour"
           }
          ],
          "contourcarpet": [
           {
            "colorbar": {
             "outlinewidth": 0,
             "ticks": ""
            },
            "type": "contourcarpet"
           }
          ],
          "heatmap": [
           {
            "colorbar": {
             "outlinewidth": 0,
             "ticks": ""
            },
            "colorscale": [
             [
              0,
              "#0d0887"
             ],
             [
              0.1111111111111111,
              "#46039f"
             ],
             [
              0.2222222222222222,
              "#7201a8"
             ],
             [
              0.3333333333333333,
              "#9c179e"
             ],
             [
              0.4444444444444444,
              "#bd3786"
             ],
             [
              0.5555555555555556,
              "#d8576b"
             ],
             [
              0.6666666666666666,
              "#ed7953"
             ],
             [
              0.7777777777777778,
              "#fb9f3a"
             ],
             [
              0.8888888888888888,
              "#fdca26"
             ],
             [
              1,
              "#f0f921"
             ]
            ],
            "type": "heatmap"
           }
          ],
          "heatmapgl": [
           {
            "colorbar": {
             "outlinewidth": 0,
             "ticks": ""
            },
            "colorscale": [
             [
              0,
              "#0d0887"
             ],
             [
              0.1111111111111111,
              "#46039f"
             ],
             [
              0.2222222222222222,
              "#7201a8"
             ],
             [
              0.3333333333333333,
              "#9c179e"
             ],
             [
              0.4444444444444444,
              "#bd3786"
             ],
             [
              0.5555555555555556,
              "#d8576b"
             ],
             [
              0.6666666666666666,
              "#ed7953"
             ],
             [
              0.7777777777777778,
              "#fb9f3a"
             ],
             [
              0.8888888888888888,
              "#fdca26"
             ],
             [
              1,
              "#f0f921"
             ]
            ],
            "type": "heatmapgl"
           }
          ],
          "histogram": [
           {
            "marker": {
             "pattern": {
              "fillmode": "overlay",
              "size": 10,
              "solidity": 0.2
             }
            },
            "type": "histogram"
           }
          ],
          "histogram2d": [
           {
            "colorbar": {
             "outlinewidth": 0,
             "ticks": ""
            },
            "colorscale": [
             [
              0,
              "#0d0887"
             ],
             [
              0.1111111111111111,
              "#46039f"
             ],
             [
              0.2222222222222222,
              "#7201a8"
             ],
             [
              0.3333333333333333,
              "#9c179e"
             ],
             [
              0.4444444444444444,
              "#bd3786"
             ],
             [
              0.5555555555555556,
              "#d8576b"
             ],
             [
              0.6666666666666666,
              "#ed7953"
             ],
             [
              0.7777777777777778,
              "#fb9f3a"
             ],
             [
              0.8888888888888888,
              "#fdca26"
             ],
             [
              1,
              "#f0f921"
             ]
            ],
            "type": "histogram2d"
           }
          ],
          "histogram2dcontour": [
           {
            "colorbar": {
             "outlinewidth": 0,
             "ticks": ""
            },
            "colorscale": [
             [
              0,
              "#0d0887"
             ],
             [
              0.1111111111111111,
              "#46039f"
             ],
             [
              0.2222222222222222,
              "#7201a8"
             ],
             [
              0.3333333333333333,
              "#9c179e"
             ],
             [
              0.4444444444444444,
              "#bd3786"
             ],
             [
              0.5555555555555556,
              "#d8576b"
             ],
             [
              0.6666666666666666,
              "#ed7953"
             ],
             [
              0.7777777777777778,
              "#fb9f3a"
             ],
             [
              0.8888888888888888,
              "#fdca26"
             ],
             [
              1,
              "#f0f921"
             ]
            ],
            "type": "histogram2dcontour"
           }
          ],
          "mesh3d": [
           {
            "colorbar": {
             "outlinewidth": 0,
             "ticks": ""
            },
            "type": "mesh3d"
           }
          ],
          "parcoords": [
           {
            "line": {
             "colorbar": {
              "outlinewidth": 0,
              "ticks": ""
             }
            },
            "type": "parcoords"
           }
          ],
          "pie": [
           {
            "automargin": true,
            "type": "pie"
           }
          ],
          "scatter": [
           {
            "fillpattern": {
             "fillmode": "overlay",
             "size": 10,
             "solidity": 0.2
            },
            "type": "scatter"
           }
          ],
          "scatter3d": [
           {
            "line": {
             "colorbar": {
              "outlinewidth": 0,
              "ticks": ""
             }
            },
            "marker": {
             "colorbar": {
              "outlinewidth": 0,
              "ticks": ""
             }
            },
            "type": "scatter3d"
           }
          ],
          "scattercarpet": [
           {
            "marker": {
             "colorbar": {
              "outlinewidth": 0,
              "ticks": ""
             }
            },
            "type": "scattercarpet"
           }
          ],
          "scattergeo": [
           {
            "marker": {
             "colorbar": {
              "outlinewidth": 0,
              "ticks": ""
             }
            },
            "type": "scattergeo"
           }
          ],
          "scattergl": [
           {
            "marker": {
             "colorbar": {
              "outlinewidth": 0,
              "ticks": ""
             }
            },
            "type": "scattergl"
           }
          ],
          "scattermapbox": [
           {
            "marker": {
             "colorbar": {
              "outlinewidth": 0,
              "ticks": ""
             }
            },
            "type": "scattermapbox"
           }
          ],
          "scatterpolar": [
           {
            "marker": {
             "colorbar": {
              "outlinewidth": 0,
              "ticks": ""
             }
            },
            "type": "scatterpolar"
           }
          ],
          "scatterpolargl": [
           {
            "marker": {
             "colorbar": {
              "outlinewidth": 0,
              "ticks": ""
             }
            },
            "type": "scatterpolargl"
           }
          ],
          "scatterternary": [
           {
            "marker": {
             "colorbar": {
              "outlinewidth": 0,
              "ticks": ""
             }
            },
            "type": "scatterternary"
           }
          ],
          "surface": [
           {
            "colorbar": {
             "outlinewidth": 0,
             "ticks": ""
            },
            "colorscale": [
             [
              0,
              "#0d0887"
             ],
             [
              0.1111111111111111,
              "#46039f"
             ],
             [
              0.2222222222222222,
              "#7201a8"
             ],
             [
              0.3333333333333333,
              "#9c179e"
             ],
             [
              0.4444444444444444,
              "#bd3786"
             ],
             [
              0.5555555555555556,
              "#d8576b"
             ],
             [
              0.6666666666666666,
              "#ed7953"
             ],
             [
              0.7777777777777778,
              "#fb9f3a"
             ],
             [
              0.8888888888888888,
              "#fdca26"
             ],
             [
              1,
              "#f0f921"
             ]
            ],
            "type": "surface"
           }
          ],
          "table": [
           {
            "cells": {
             "fill": {
              "color": "#EBF0F8"
             },
             "line": {
              "color": "white"
             }
            },
            "header": {
             "fill": {
              "color": "#C8D4E3"
             },
             "line": {
              "color": "white"
             }
            },
            "type": "table"
           }
          ]
         },
         "layout": {
          "annotationdefaults": {
           "arrowcolor": "#2a3f5f",
           "arrowhead": 0,
           "arrowwidth": 1
          },
          "autotypenumbers": "strict",
          "coloraxis": {
           "colorbar": {
            "outlinewidth": 0,
            "ticks": ""
           }
          },
          "colorscale": {
           "diverging": [
            [
             0,
             "#8e0152"
            ],
            [
             0.1,
             "#c51b7d"
            ],
            [
             0.2,
             "#de77ae"
            ],
            [
             0.3,
             "#f1b6da"
            ],
            [
             0.4,
             "#fde0ef"
            ],
            [
             0.5,
             "#f7f7f7"
            ],
            [
             0.6,
             "#e6f5d0"
            ],
            [
             0.7,
             "#b8e186"
            ],
            [
             0.8,
             "#7fbc41"
            ],
            [
             0.9,
             "#4d9221"
            ],
            [
             1,
             "#276419"
            ]
           ],
           "sequential": [
            [
             0,
             "#0d0887"
            ],
            [
             0.1111111111111111,
             "#46039f"
            ],
            [
             0.2222222222222222,
             "#7201a8"
            ],
            [
             0.3333333333333333,
             "#9c179e"
            ],
            [
             0.4444444444444444,
             "#bd3786"
            ],
            [
             0.5555555555555556,
             "#d8576b"
            ],
            [
             0.6666666666666666,
             "#ed7953"
            ],
            [
             0.7777777777777778,
             "#fb9f3a"
            ],
            [
             0.8888888888888888,
             "#fdca26"
            ],
            [
             1,
             "#f0f921"
            ]
           ],
           "sequentialminus": [
            [
             0,
             "#0d0887"
            ],
            [
             0.1111111111111111,
             "#46039f"
            ],
            [
             0.2222222222222222,
             "#7201a8"
            ],
            [
             0.3333333333333333,
             "#9c179e"
            ],
            [
             0.4444444444444444,
             "#bd3786"
            ],
            [
             0.5555555555555556,
             "#d8576b"
            ],
            [
             0.6666666666666666,
             "#ed7953"
            ],
            [
             0.7777777777777778,
             "#fb9f3a"
            ],
            [
             0.8888888888888888,
             "#fdca26"
            ],
            [
             1,
             "#f0f921"
            ]
           ]
          },
          "colorway": [
           "#636efa",
           "#EF553B",
           "#00cc96",
           "#ab63fa",
           "#FFA15A",
           "#19d3f3",
           "#FF6692",
           "#B6E880",
           "#FF97FF",
           "#FECB52"
          ],
          "font": {
           "color": "#2a3f5f"
          },
          "geo": {
           "bgcolor": "white",
           "lakecolor": "white",
           "landcolor": "#E5ECF6",
           "showlakes": true,
           "showland": true,
           "subunitcolor": "white"
          },
          "hoverlabel": {
           "align": "left"
          },
          "hovermode": "closest",
          "mapbox": {
           "style": "light"
          },
          "paper_bgcolor": "white",
          "plot_bgcolor": "#E5ECF6",
          "polar": {
           "angularaxis": {
            "gridcolor": "white",
            "linecolor": "white",
            "ticks": ""
           },
           "bgcolor": "#E5ECF6",
           "radialaxis": {
            "gridcolor": "white",
            "linecolor": "white",
            "ticks": ""
           }
          },
          "scene": {
           "xaxis": {
            "backgroundcolor": "#E5ECF6",
            "gridcolor": "white",
            "gridwidth": 2,
            "linecolor": "white",
            "showbackground": true,
            "ticks": "",
            "zerolinecolor": "white"
           },
           "yaxis": {
            "backgroundcolor": "#E5ECF6",
            "gridcolor": "white",
            "gridwidth": 2,
            "linecolor": "white",
            "showbackground": true,
            "ticks": "",
            "zerolinecolor": "white"
           },
           "zaxis": {
            "backgroundcolor": "#E5ECF6",
            "gridcolor": "white",
            "gridwidth": 2,
            "linecolor": "white",
            "showbackground": true,
            "ticks": "",
            "zerolinecolor": "white"
           }
          },
          "shapedefaults": {
           "line": {
            "color": "#2a3f5f"
           }
          },
          "ternary": {
           "aaxis": {
            "gridcolor": "white",
            "linecolor": "white",
            "ticks": ""
           },
           "baxis": {
            "gridcolor": "white",
            "linecolor": "white",
            "ticks": ""
           },
           "bgcolor": "#E5ECF6",
           "caxis": {
            "gridcolor": "white",
            "linecolor": "white",
            "ticks": ""
           }
          },
          "title": {
           "x": 0.05
          },
          "xaxis": {
           "automargin": true,
           "gridcolor": "white",
           "linecolor": "white",
           "ticks": "",
           "title": {
            "standoff": 15
           },
           "zerolinecolor": "white",
           "zerolinewidth": 2
          },
          "yaxis": {
           "automargin": true,
           "gridcolor": "white",
           "linecolor": "white",
           "ticks": "",
           "title": {
            "standoff": 15
           },
           "zerolinecolor": "white",
           "zerolinewidth": 2
          }
         }
        },
        "title": {
         "font": {
          "size": 20
         },
         "text": "Model Horserace: Fit vs Time"
        },
        "width": 700
       }
      },
      "text/html": [
       "<div>                            <div id=\"a38c0232-1792-4dbc-a9fb-a189e3e63828\" class=\"plotly-graph-div\" style=\"height:350px; width:700px;\"></div>            <script type=\"text/javascript\">                require([\"plotly\"], function(Plotly) {                    window.PLOTLYENV=window.PLOTLYENV || {};                                    if (document.getElementById(\"a38c0232-1792-4dbc-a9fb-a189e3e63828\")) {                    Plotly.newPlot(                        \"a38c0232-1792-4dbc-a9fb-a189e3e63828\",                        [{\"cells\":{\"align\":\"center\",\"fill\":{\"color\":\"#F7FAFC\"},\"font\":{\"color\":\"black\",\"size\":13},\"height\":28,\"values\":[[\"Random Forest\",\"XGBoost\",\"LightGBM\",\"OLS\",\"LASSO\"],[0.6074,0.5929,0.4381,0.0788,0.0785],[311.73,317.45,372.93,477.53,477.59],[4.2022,0.1409,0.0617,0.0186,0.0642]]},\"header\":{\"align\":\"center\",\"fill\":{\"color\":\"#2D3748\"},\"font\":{\"color\":\"white\",\"size\":14},\"height\":30,\"values\":[\"Model\",\"R\\u00b2\",\"RMSE (\\u20ac)\",\"Train Time (s)\"]},\"type\":\"table\"}],                        {\"template\":{\"data\":{\"histogram2dcontour\":[{\"type\":\"histogram2dcontour\",\"colorbar\":{\"outlinewidth\":0,\"ticks\":\"\"},\"colorscale\":[[0.0,\"#0d0887\"],[0.1111111111111111,\"#46039f\"],[0.2222222222222222,\"#7201a8\"],[0.3333333333333333,\"#9c179e\"],[0.4444444444444444,\"#bd3786\"],[0.5555555555555556,\"#d8576b\"],[0.6666666666666666,\"#ed7953\"],[0.7777777777777778,\"#fb9f3a\"],[0.8888888888888888,\"#fdca26\"],[1.0,\"#f0f921\"]]}],\"choropleth\":[{\"type\":\"choropleth\",\"colorbar\":{\"outlinewidth\":0,\"ticks\":\"\"}}],\"histogram2d\":[{\"type\":\"histogram2d\",\"colorbar\":{\"outlinewidth\":0,\"ticks\":\"\"},\"colorscale\":[[0.0,\"#0d0887\"],[0.1111111111111111,\"#46039f\"],[0.2222222222222222,\"#7201a8\"],[0.3333333333333333,\"#9c179e\"],[0.4444444444444444,\"#bd3786\"],[0.5555555555555556,\"#d8576b\"],[0.6666666666666666,\"#ed7953\"],[0.7777777777777778,\"#fb9f3a\"],[0.8888888888888888,\"#fdca26\"],[1.0,\"#f0f921\"]]}],\"heatmap\":[{\"type\":\"heatmap\",\"colorbar\":{\"outlinewidth\":0,\"ticks\":\"\"},\"colorscale\":[[0.0,\"#0d0887\"],[0.1111111111111111,\"#46039f\"],[0.2222222222222222,\"#7201a8\"],[0.3333333333333333,\"#9c179e\"],[0.4444444444444444,\"#bd3786\"],[0.5555555555555556,\"#d8576b\"],[0.6666666666666666,\"#ed7953\"],[0.7777777777777778,\"#fb9f3a\"],[0.8888888888888888,\"#fdca26\"],[1.0,\"#f0f921\"]]}],\"heatmapgl\":[{\"type\":\"heatmapgl\",\"colorbar\":{\"outlinewidth\":0,\"ticks\":\"\"},\"colorscale\":[[0.0,\"#0d0887\"],[0.1111111111111111,\"#46039f\"],[0.2222222222222222,\"#7201a8\"],[0.3333333333333333,\"#9c179e\"],[0.4444444444444444,\"#bd3786\"],[0.5555555555555556,\"#d8576b\"],[0.6666666666666666,\"#ed7953\"],[0.7777777777777778,\"#fb9f3a\"],[0.8888888888888888,\"#fdca26\"],[1.0,\"#f0f921\"]]}],\"contourcarpet\":[{\"type\":\"contourcarpet\",\"colorbar\":{\"outlinewidth\":0,\"ticks\":\"\"}}],\"contour\":[{\"type\":\"contour\",\"colorbar\":{\"outlinewidth\":0,\"ticks\":\"\"},\"colorscale\":[[0.0,\"#0d0887\"],[0.1111111111111111,\"#46039f\"],[0.2222222222222222,\"#7201a8\"],[0.3333333333333333,\"#9c179e\"],[0.4444444444444444,\"#bd3786\"],[0.5555555555555556,\"#d8576b\"],[0.6666666666666666,\"#ed7953\"],[0.7777777777777778,\"#fb9f3a\"],[0.8888888888888888,\"#fdca26\"],[1.0,\"#f0f921\"]]}],\"surface\":[{\"type\":\"surface\",\"colorbar\":{\"outlinewidth\":0,\"ticks\":\"\"},\"colorscale\":[[0.0,\"#0d0887\"],[0.1111111111111111,\"#46039f\"],[0.2222222222222222,\"#7201a8\"],[0.3333333333333333,\"#9c179e\"],[0.4444444444444444,\"#bd3786\"],[0.5555555555555556,\"#d8576b\"],[0.6666666666666666,\"#ed7953\"],[0.7777777777777778,\"#fb9f3a\"],[0.8888888888888888,\"#fdca26\"],[1.0,\"#f0f921\"]]}],\"mesh3d\":[{\"type\":\"mesh3d\",\"colorbar\":{\"outlinewidth\":0,\"ticks\":\"\"}}],\"scatter\":[{\"fillpattern\":{\"fillmode\":\"overlay\",\"size\":10,\"solidity\":0.2},\"type\":\"scatter\"}],\"parcoords\":[{\"type\":\"parcoords\",\"line\":{\"colorbar\":{\"outlinewidth\":0,\"ticks\":\"\"}}}],\"scatterpolargl\":[{\"type\":\"scatterpolargl\",\"marker\":{\"colorbar\":{\"outlinewidth\":0,\"ticks\":\"\"}}}],\"bar\":[{\"error_x\":{\"color\":\"#2a3f5f\"},\"error_y\":{\"color\":\"#2a3f5f\"},\"marker\":{\"line\":{\"color\":\"#E5ECF6\",\"width\":0.5},\"pattern\":{\"fillmode\":\"overlay\",\"size\":10,\"solidity\":0.2}},\"type\":\"bar\"}],\"scattergeo\":[{\"type\":\"scattergeo\",\"marker\":{\"colorbar\":{\"outlinewidth\":0,\"ticks\":\"\"}}}],\"scatterpolar\":[{\"type\":\"scatterpolar\",\"marker\":{\"colorbar\":{\"outlinewidth\":0,\"ticks\":\"\"}}}],\"histogram\":[{\"marker\":{\"pattern\":{\"fillmode\":\"overlay\",\"size\":10,\"solidity\":0.2}},\"type\":\"histogram\"}],\"scattergl\":[{\"type\":\"scattergl\",\"marker\":{\"colorbar\":{\"outlinewidth\":0,\"ticks\":\"\"}}}],\"scatter3d\":[{\"type\":\"scatter3d\",\"line\":{\"colorbar\":{\"outlinewidth\":0,\"ticks\":\"\"}},\"marker\":{\"colorbar\":{\"outlinewidth\":0,\"ticks\":\"\"}}}],\"scattermapbox\":[{\"type\":\"scattermapbox\",\"marker\":{\"colorbar\":{\"outlinewidth\":0,\"ticks\":\"\"}}}],\"scatterternary\":[{\"type\":\"scatterternary\",\"marker\":{\"colorbar\":{\"outlinewidth\":0,\"ticks\":\"\"}}}],\"scattercarpet\":[{\"type\":\"scattercarpet\",\"marker\":{\"colorbar\":{\"outlinewidth\":0,\"ticks\":\"\"}}}],\"carpet\":[{\"aaxis\":{\"endlinecolor\":\"#2a3f5f\",\"gridcolor\":\"white\",\"linecolor\":\"white\",\"minorgridcolor\":\"white\",\"startlinecolor\":\"#2a3f5f\"},\"baxis\":{\"endlinecolor\":\"#2a3f5f\",\"gridcolor\":\"white\",\"linecolor\":\"white\",\"minorgridcolor\":\"white\",\"startlinecolor\":\"#2a3f5f\"},\"type\":\"carpet\"}],\"table\":[{\"cells\":{\"fill\":{\"color\":\"#EBF0F8\"},\"line\":{\"color\":\"white\"}},\"header\":{\"fill\":{\"color\":\"#C8D4E3\"},\"line\":{\"color\":\"white\"}},\"type\":\"table\"}],\"barpolar\":[{\"marker\":{\"line\":{\"color\":\"#E5ECF6\",\"width\":0.5},\"pattern\":{\"fillmode\":\"overlay\",\"size\":10,\"solidity\":0.2}},\"type\":\"barpolar\"}],\"pie\":[{\"automargin\":true,\"type\":\"pie\"}]},\"layout\":{\"autotypenumbers\":\"strict\",\"colorway\":[\"#636efa\",\"#EF553B\",\"#00cc96\",\"#ab63fa\",\"#FFA15A\",\"#19d3f3\",\"#FF6692\",\"#B6E880\",\"#FF97FF\",\"#FECB52\"],\"font\":{\"color\":\"#2a3f5f\"},\"hovermode\":\"closest\",\"hoverlabel\":{\"align\":\"left\"},\"paper_bgcolor\":\"white\",\"plot_bgcolor\":\"#E5ECF6\",\"polar\":{\"bgcolor\":\"#E5ECF6\",\"angularaxis\":{\"gridcolor\":\"white\",\"linecolor\":\"white\",\"ticks\":\"\"},\"radialaxis\":{\"gridcolor\":\"white\",\"linecolor\":\"white\",\"ticks\":\"\"}},\"ternary\":{\"bgcolor\":\"#E5ECF6\",\"aaxis\":{\"gridcolor\":\"white\",\"linecolor\":\"white\",\"ticks\":\"\"},\"baxis\":{\"gridcolor\":\"white\",\"linecolor\":\"white\",\"ticks\":\"\"},\"caxis\":{\"gridcolor\":\"white\",\"linecolor\":\"white\",\"ticks\":\"\"}},\"coloraxis\":{\"colorbar\":{\"outlinewidth\":0,\"ticks\":\"\"}},\"colorscale\":{\"sequential\":[[0.0,\"#0d0887\"],[0.1111111111111111,\"#46039f\"],[0.2222222222222222,\"#7201a8\"],[0.3333333333333333,\"#9c179e\"],[0.4444444444444444,\"#bd3786\"],[0.5555555555555556,\"#d8576b\"],[0.6666666666666666,\"#ed7953\"],[0.7777777777777778,\"#fb9f3a\"],[0.8888888888888888,\"#fdca26\"],[1.0,\"#f0f921\"]],\"sequentialminus\":[[0.0,\"#0d0887\"],[0.1111111111111111,\"#46039f\"],[0.2222222222222222,\"#7201a8\"],[0.3333333333333333,\"#9c179e\"],[0.4444444444444444,\"#bd3786\"],[0.5555555555555556,\"#d8576b\"],[0.6666666666666666,\"#ed7953\"],[0.7777777777777778,\"#fb9f3a\"],[0.8888888888888888,\"#fdca26\"],[1.0,\"#f0f921\"]],\"diverging\":[[0,\"#8e0152\"],[0.1,\"#c51b7d\"],[0.2,\"#de77ae\"],[0.3,\"#f1b6da\"],[0.4,\"#fde0ef\"],[0.5,\"#f7f7f7\"],[0.6,\"#e6f5d0\"],[0.7,\"#b8e186\"],[0.8,\"#7fbc41\"],[0.9,\"#4d9221\"],[1,\"#276419\"]]},\"xaxis\":{\"gridcolor\":\"white\",\"linecolor\":\"white\",\"ticks\":\"\",\"title\":{\"standoff\":15},\"zerolinecolor\":\"white\",\"automargin\":true,\"zerolinewidth\":2},\"yaxis\":{\"gridcolor\":\"white\",\"linecolor\":\"white\",\"ticks\":\"\",\"title\":{\"standoff\":15},\"zerolinecolor\":\"white\",\"automargin\":true,\"zerolinewidth\":2},\"scene\":{\"xaxis\":{\"backgroundcolor\":\"#E5ECF6\",\"gridcolor\":\"white\",\"linecolor\":\"white\",\"showbackground\":true,\"ticks\":\"\",\"zerolinecolor\":\"white\",\"gridwidth\":2},\"yaxis\":{\"backgroundcolor\":\"#E5ECF6\",\"gridcolor\":\"white\",\"linecolor\":\"white\",\"showbackground\":true,\"ticks\":\"\",\"zerolinecolor\":\"white\",\"gridwidth\":2},\"zaxis\":{\"backgroundcolor\":\"#E5ECF6\",\"gridcolor\":\"white\",\"linecolor\":\"white\",\"showbackground\":true,\"ticks\":\"\",\"zerolinecolor\":\"white\",\"gridwidth\":2}},\"shapedefaults\":{\"line\":{\"color\":\"#2a3f5f\"}},\"annotationdefaults\":{\"arrowcolor\":\"#2a3f5f\",\"arrowhead\":0,\"arrowwidth\":1},\"geo\":{\"bgcolor\":\"white\",\"landcolor\":\"#E5ECF6\",\"subunitcolor\":\"white\",\"showland\":true,\"showlakes\":true,\"lakecolor\":\"white\"},\"title\":{\"x\":0.05},\"mapbox\":{\"style\":\"light\"}}},\"title\":{\"text\":\"Model Horserace: Fit vs Time\",\"font\":{\"size\":20}},\"width\":700,\"height\":350},                        {\"responsive\": true}                    ).then(function(){\n",
       "                            \n",
       "var gd = document.getElementById('a38c0232-1792-4dbc-a9fb-a189e3e63828');\n",
       "var x = new MutationObserver(function (mutations, observer) {{\n",
       "        var display = window.getComputedStyle(gd).display;\n",
       "        if (!display || display === 'none') {{\n",
       "            console.log([gd, 'removed!']);\n",
       "            Plotly.purge(gd);\n",
       "            observer.disconnect();\n",
       "        }}\n",
       "}});\n",
       "\n",
       "// Listen for the removal of the full notebook cells\n",
       "var notebookContainer = gd.closest('#notebook-container');\n",
       "if (notebookContainer) {{\n",
       "    x.observe(notebookContainer, {childList: true});\n",
       "}}\n",
       "\n",
       "// Listen for the clearing of the current output cell\n",
       "var outputEl = gd.closest('.output');\n",
       "if (outputEl) {{\n",
       "    x.observe(outputEl, {childList: true});\n",
       "}}\n",
       "\n",
       "                        })                };                });            </script>        </div>"
      ]
     },
     "metadata": {},
     "output_type": "display_data"
    }
   ],
   "source": [
    "import plotly.graph_objects as go\n",
    "\n",
    "# Create table\n",
    "fig = go.Figure(data=[go.Table(\n",
    "    header=dict(\n",
    "        values=[\"Model\", \"R²\", \"RMSE (€)\", \"Train Time (s)\"],\n",
    "        fill_color='#2D3748',\n",
    "        font=dict(color='white', size=14),\n",
    "        align='center',\n",
    "        height=30\n",
    "    ),\n",
    "    cells=dict(\n",
    "        values=[\n",
    "            results_df[\"Model\"],\n",
    "            results_df[\"R²\"],\n",
    "            results_df[\"RMSE (€)\"],\n",
    "            results_df[\"Train Time (s)\"]\n",
    "        ],\n",
    "        fill_color='#F7FAFC',\n",
    "        align='center',\n",
    "        font=dict(color='black', size=13),\n",
    "        height=28\n",
    "    ))\n",
    "])\n",
    "\n",
    "fig.update_layout(\n",
    "    width=700,\n",
    "    height=350,\n",
    "    title=\"Model Horserace: Fit vs Time\",\n",
    "    title_font=dict(size=20)\n",
    ")\n",
    "\n",
    "fig.show()\n"
   ]
  },
  {
   "cell_type": "markdown",
   "id": "8593dda2",
   "metadata": {},
   "source": [
    "## RF vs XGBoost"
   ]
  },
  {
   "cell_type": "code",
   "execution_count": 23,
   "id": "4b4da800",
   "metadata": {},
   "outputs": [
    {
     "name": "stdout",
     "output_type": "stream",
     "text": [
      "Random Forest — Top 10 Features\n"
     ]
    },
    {
     "data": {
      "text/plain": [
       "longitude                         0.208912\n",
       "latitude                          0.162713\n",
       "availability_365                  0.143565\n",
       "calculated_host_listings_count    0.143203\n",
       "neighbourhood_Αποκορώνου          0.087578\n",
       "log_minimum_nights                0.035856\n",
       "minimum_nights                    0.032907\n",
       "days_since_last_review            0.026853\n",
       "neighbourhood_Αγίου Νικολάου      0.022565\n",
       "log_reviews_per_month             0.018182\n",
       "dtype: float64"
      ]
     },
     "metadata": {},
     "output_type": "display_data"
    }
   ],
   "source": [
    "# Get feature importances from RF\n",
    "rf_importances = pd.Series(rf_model.feature_importances_, index=X.columns)\n",
    "rf_top10 = rf_importances.sort_values(ascending=False).head(10)\n",
    "\n",
    "print(\"Random Forest — Top 10 Features\")\n",
    "display(rf_top10)\n"
   ]
  },
  {
   "cell_type": "code",
   "execution_count": 24,
   "id": "ddf52f70",
   "metadata": {},
   "outputs": [
    {
     "name": "stdout",
     "output_type": "stream",
     "text": [
      "XGBoost — Top 10 Features\n"
     ]
    },
    {
     "data": {
      "text/plain": [
       "neighbourhood_Αποκορώνου          0.266950\n",
       "room_type_Hotel room              0.099420\n",
       "neighbourhood_Αγίου Νικολάου      0.055139\n",
       "longitude                         0.053088\n",
       "calculated_host_listings_count    0.051646\n",
       "log_minimum_nights                0.048542\n",
       "availability_365                  0.041290\n",
       "latitude                          0.038244\n",
       "log_reviews_per_month             0.035343\n",
       "room_type_Private room            0.030272\n",
       "dtype: float32"
      ]
     },
     "metadata": {},
     "output_type": "display_data"
    }
   ],
   "source": [
    "# Get feature importances from XGBoost\n",
    "xgb_importances = pd.Series(xgb_model.feature_importances_, index=X.columns)\n",
    "xgb_top10 = xgb_importances.sort_values(ascending=False).head(10)\n",
    "\n",
    "print(\"XGBoost — Top 10 Features\")\n",
    "display(xgb_top10)\n"
   ]
  },
  {
   "cell_type": "markdown",
   "id": "8c88c760",
   "metadata": {},
   "source": [
    "## Part I, Step 4: Model Interpretation & Feature Comparison\n",
    "\n",
    "### Top 10 Feature Comparison — Random Forest vs XGBoost\n",
    "\n",
    "| Rank | Random Forest                    | Importance | XGBoost                          | Importance |\n",
    "|------|----------------------------------|------------|----------------------------------|------------|\n",
    "| 1    | **longitude**                    | 0.209      | **neighbourhood_Αποκορώνου**     | 0.267      |\n",
    "| 2    | **latitude**                     | 0.163      | **room_type_Hotel room**         | 0.099      |\n",
    "| 3    | availability_365                 | 0.144      | neighbourhood_Αγίου Νικολάου     | 0.055      |\n",
    "| 4    | calculated_host_listings_count  | 0.143      | longitude                         | 0.053      |\n",
    "| 5    | neighbourhood_Αποκορώνου        | 0.088      | calculated_host_listings_count   | 0.052      |\n",
    "| 6    | log_minimum_nights              | 0.036      | log_minimum_nights               | 0.049      |\n",
    "| 7    | minimum_nights                  | 0.033      | availability_365                 | 0.041      |\n",
    "| 8    | days_since_last_review          | 0.027      | latitude                         | 0.038      |\n",
    "| 9    | neighbourhood_Αγίου Νικολάου    | 0.023      | log_reviews_per_month            | 0.035      |\n",
    "| 10   | log_reviews_per_month           | 0.018      | room_type_Private room           | 0.030      |\n",
    "\n",
    "---\n",
    "\n",
    "### Key Insights \n",
    "\n",
    "- **Location dominates** both models — longitude and latitude are top predictors, confirming spatial pricing patterns in Crete.\n",
    "- **Neighbourhoods** such as Αποκορώνου and Αγίου Νικολάου are influential in both models, capturing local demand.\n",
    "- **Room types** (especially Hotel and Private rooms) are important in XGBoost but not in Random Forest — likely due to better handling of sparse dummies.\n",
    "- **Availability** and **host listing count** reflect operational/business strategy, influencing pricing.\n",
    "- **Minimum nights & recent activity** (log_reviews_per_month, days_since_last_review) also affect price, hinting at host flexibility and guest engagement levels.\n",
    "\n",
    "---\n",
    " \n",
    "### Summary\n",
    "\n",
    "In comparing feature importance between Random Forest and XGBoost, both models highlight location as a dominant pricing factor, with longitude and latitude consistently ranked at the top. Neighbourhoods such as Αποκορώνου and Αγίου Νικολάου also emerge as key predictors, capturing local demand dynamics. While Random Forest emphasizes spatial and availability-related features, XGBoost assigns more weight to categorical and engineered variables, including room types and log-transformed review metrics—likely due to its superior handling of sparse data. Both models reflect the influence of host strategy (e.g., availability, number of listings) and guest interaction indicators (e.g., days since last review), suggesting that Airbnb pricing in Crete is shaped by a combination of location, listing flexibility, and user engagement.\n",
    "\n",
    "- **Random Forest** favors spatial and availability-related features.\n",
    "- **XGBoost** offers a more balanced view, incorporating engineered and categorical variables.\n",
    "- Both models effectively capture non-linear and complex interactions in Airbnb pricing.\n"
   ]
  },
  {
   "cell_type": "markdown",
   "id": "f5149066",
   "metadata": {},
   "source": [
    "# Part II. Validity"
   ]
  },
  {
   "cell_type": "code",
   "execution_count": null,
   "id": "16899e79",
   "metadata": {},
   "outputs": [],
   "source": []
  }
 ],
 "metadata": {
  "kernelspec": {
   "display_name": "Python 3 (ipykernel)",
   "language": "python",
   "name": "python3"
  },
  "language_info": {
   "codemirror_mode": {
    "name": "ipython",
    "version": 3
   },
   "file_extension": ".py",
   "mimetype": "text/x-python",
   "name": "python",
   "nbconvert_exporter": "python",
   "pygments_lexer": "ipython3",
   "version": "3.11.5"
  }
 },
 "nbformat": 4,
 "nbformat_minor": 5
}
